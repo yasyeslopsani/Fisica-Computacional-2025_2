{
 "cells": [
  {
   "cell_type": "markdown",
   "id": "d0eb86a5-f2e6-4a2f-be62-a21f114e1261",
   "metadata": {},
   "source": [
    "### Producto punto dim = 3"
   ]
  },
  {
   "cell_type": "code",
   "execution_count": 18,
   "id": "5e472182-1f0c-4361-9470-fd814b8542d7",
   "metadata": {},
   "outputs": [],
   "source": [
    "#Recordar correr la casilla para que se \n",
    "v1 = [1,2,3,4]\n",
    "v2 = [5,6,7,8]\n",
    "v3 = []"
   ]
  },
  {
   "cell_type": "code",
   "execution_count": 19,
   "id": "ea635ab6-475d-4d36-88ef-543c4e1f910c",
   "metadata": {},
   "outputs": [
    {
     "data": {
      "text/plain": [
       "[1, 2, 3, 4]"
      ]
     },
     "execution_count": 19,
     "metadata": {},
     "output_type": "execute_result"
    }
   ],
   "source": [
    "v1"
   ]
  },
  {
   "cell_type": "code",
   "execution_count": 20,
   "id": "0cd27de1-253c-4b75-b7d1-182300dd89d9",
   "metadata": {},
   "outputs": [
    {
     "data": {
      "text/plain": [
       "[5, 6, 7, 8]"
      ]
     },
     "execution_count": 20,
     "metadata": {},
     "output_type": "execute_result"
    }
   ],
   "source": [
    "v2"
   ]
  },
  {
   "cell_type": "code",
   "execution_count": 30,
   "id": "942d5294-d93a-4815-8494-9440c747f1fd",
   "metadata": {},
   "outputs": [
    {
     "data": {
      "text/plain": [
       "[5, 12, 21, 32, 5, 12, 21, 32, 5, 12, 21, 32]"
      ]
     },
     "execution_count": 30,
     "metadata": {},
     "output_type": "execute_result"
    }
   ],
   "source": [
    "v3"
   ]
  },
  {
   "cell_type": "code",
   "execution_count": 38,
   "id": "a987fe8b-864b-48d8-a397-e2c799d55aa2",
   "metadata": {},
   "outputs": [
    {
     "name": "stdout",
     "output_type": "stream",
     "text": [
      "70\n"
     ]
    }
   ],
   "source": [
    "m = 0\n",
    "for i in range(len(v1)):\n",
    "    m += v1[i]*v2[i] #m += es igual a escribir m = m + {...}\n",
    "    v3.append(m)\n",
    "print(m)"
   ]
  },
  {
   "cell_type": "markdown",
   "id": "b6e3678e-d267-4ee6-b885-9426e7588b45",
   "metadata": {},
   "source": [
    "### Producto punto dim = m"
   ]
  },
  {
   "cell_type": "code",
   "execution_count": 42,
   "id": "af7fa50b-043a-46bb-82ce-950dd62c5dca",
   "metadata": {},
   "outputs": [],
   "source": [
    "a1 = []\n",
    "a2 = []"
   ]
  },
  {
   "cell_type": "code",
   "execution_count": 61,
   "id": "7dcdfcef-de6f-4e66-8ae0-70f8b00c0310",
   "metadata": {},
   "outputs": [
    {
     "name": "stdin",
     "output_type": "stream",
     "text": [
      "Ingresa el rango de tus vectores: 3\n"
     ]
    },
    {
     "name": "stdout",
     "output_type": "stream",
     "text": [
      "Ingresa los valores de tu vector A1:\n"
     ]
    },
    {
     "name": "stdin",
     "output_type": "stream",
     "text": [
      "3 1\n",
      "3 2\n",
      "3 3\n"
     ]
    }
   ],
   "source": [
    "rango_uno = int(input(\"Ingresa el rango de tus vectores:\"))\n",
    "m = int(rango_uno)\n",
    "\n",
    "print(\"Ingresa los valores de tu vector A1:\")\n",
    "for i in range(m):\n",
    "    M = int(input(m))\n",
    "    a1.append(M)"
   ]
  },
  {
   "cell_type": "code",
   "execution_count": 62,
   "id": "cbfd6308-e0de-4dbe-b15d-e86b6e664b15",
   "metadata": {},
   "outputs": [
    {
     "name": "stdout",
     "output_type": "stream",
     "text": [
      "Ingresa los valores de tu vector A2:\n"
     ]
    },
    {
     "name": "stdin",
     "output_type": "stream",
     "text": [
      "2 4\n",
      "2 5\n",
      "2 6\n"
     ]
    }
   ],
   "source": [
    "print(\"Ingresa los valores de tu vector A2:\")\n",
    "for i in range(m):\n",
    "    K = int(input(k))\n",
    "    a2.append(K)"
   ]
  },
  {
   "cell_type": "code",
   "execution_count": 63,
   "id": "b58f4ff5-cac1-44a7-bb72-831100c9b08c",
   "metadata": {},
   "outputs": [
    {
     "ename": "TypeError",
     "evalue": "unsupported operand type(s) for +: 'int' and 'str'",
     "output_type": "error",
     "traceback": [
      "\u001b[0;31m---------------------------------------------------------------------------\u001b[0m",
      "\u001b[0;31mTypeError\u001b[0m                                 Traceback (most recent call last)",
      "Cell \u001b[0;32mIn[63], line 4\u001b[0m\n\u001b[1;32m      2\u001b[0m u \u001b[38;5;241m=\u001b[39m \u001b[38;5;241m0\u001b[39m\n\u001b[1;32m      3\u001b[0m \u001b[38;5;28;01mfor\u001b[39;00m i \u001b[38;5;129;01min\u001b[39;00m \u001b[38;5;28mrange\u001b[39m(m):\n\u001b[0;32m----> 4\u001b[0m     u \u001b[38;5;241m=\u001b[39m \u001b[43mu\u001b[49m\u001b[43m \u001b[49m\u001b[38;5;241;43m+\u001b[39;49m\u001b[43m \u001b[49m\u001b[43ma1\u001b[49m\u001b[43m[\u001b[49m\u001b[43mi\u001b[49m\u001b[43m]\u001b[49m\u001b[38;5;241;43m*\u001b[39;49m\u001b[43ma2\u001b[49m\u001b[43m[\u001b[49m\u001b[43mi\u001b[49m\u001b[43m]\u001b[49m\n\u001b[1;32m      5\u001b[0m     a3\u001b[38;5;241m.\u001b[39mappend(u)\n\u001b[1;32m      6\u001b[0m \u001b[38;5;28mprint\u001b[39m(u)\n",
      "\u001b[0;31mTypeError\u001b[0m: unsupported operand type(s) for +: 'int' and 'str'"
     ]
    }
   ],
   "source": [
    "a3 = []\n",
    "u = 0\n",
    "for i in range(m):\n",
    "    u = u + a1[i]*a2[i]\n",
    "    a3.append(u)\n",
    "print(u)"
   ]
  },
  {
   "cell_type": "markdown",
   "id": "2bf24a00-ffed-4ba9-b95b-e53f1e2fa013",
   "metadata": {},
   "source": [
    "### Producto vector por matriz"
   ]
  },
  {
   "cell_type": "code",
   "execution_count": null,
   "id": "3157a26f-0ce0-4221-a12f-ab6c5855aff5",
   "metadata": {},
   "outputs": [],
   "source": []
  },
  {
   "cell_type": "markdown",
   "id": "62ef7129-5df3-4b5f-8b7c-2484972d81e1",
   "metadata": {},
   "source": [
    "### Producto matriz por matriz"
   ]
  },
  {
   "cell_type": "markdown",
   "id": "0598f4c0-7b15-4437-924c-d8c08933d3ad",
   "metadata": {},
   "source": [
    "### Definir función "
   ]
  },
  {
   "cell_type": "code",
   "execution_count": null,
   "id": "2001b118-a7c4-4313-a937-7acf65baf21c",
   "metadata": {},
   "outputs": [],
   "source": [
    "def punto("
   ]
  }
 ],
 "metadata": {
  "kernelspec": {
   "display_name": "Python 3 (ipykernel)",
   "language": "python",
   "name": "python3"
  },
  "language_info": {
   "codemirror_mode": {
    "name": "ipython",
    "version": 3
   },
   "file_extension": ".py",
   "mimetype": "text/x-python",
   "name": "python",
   "nbconvert_exporter": "python",
   "pygments_lexer": "ipython3",
   "version": "3.12.4"
  }
 },
 "nbformat": 4,
 "nbformat_minor": 5
}
