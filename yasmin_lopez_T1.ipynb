{
 "cells": [
  {
   "cell_type": "markdown",
   "id": "b92b3d81-ee2e-4404-871a-33a136519765",
   "metadata": {},
   "source": [
    "# Ejercicio 1"
   ]
  },
  {
   "cell_type": "markdown",
   "id": "4f90b9e9-66ea-4767-8358-73445da44b97",
   "metadata": {},
   "source": [
    "##### Coordenadas polares y cartesianas"
   ]
  },
  {
   "cell_type": "markdown",
   "id": "28e1fc9e-d7e4-456a-9ed6-b8fc6c3d240e",
   "metadata": {},
   "source": [
    "Considerando que la transformación de coordenadas polares a cartesianas se realiza a partir de las siguientes expresiones: "
   ]
  },
  {
   "cell_type": "markdown",
   "id": "ac414731-36eb-4d44-a176-068796a372e2",
   "metadata": {},
   "source": [
    "Cartesianas a polares:"
   ]
  },
  {
   "cell_type": "markdown",
   "id": "c6958360-33e4-42e5-a714-29e495d19442",
   "metadata": {},
   "source": [
    "$$ r = \\sqrt{x^2 + y^2}$$"
   ]
  },
  {
   "cell_type": "markdown",
   "id": "4130a408-cf5a-452f-b063-0519586f4b2a",
   "metadata": {},
   "source": [
    "$$ \\theta = arctan(y/x)$$"
   ]
  },
  {
   "cell_type": "markdown",
   "id": "f109dada-32ba-443a-9b42-3d8e4ef6be3c",
   "metadata": {},
   "source": [
    "Polares a cartesianas:"
   ]
  },
  {
   "cell_type": "markdown",
   "id": "b7e3938a-f69d-43b9-9dec-0f48f3d1eb49",
   "metadata": {},
   "source": [
    "$$ x = rsin(\\theta)$$"
   ]
  },
  {
   "cell_type": "markdown",
   "id": "3fc63043-2c1a-4c64-accc-2977926fa7b3",
   "metadata": {},
   "source": [
    "$$y = rcos(\\theta)$$"
   ]
  },
  {
   "cell_type": "markdown",
   "id": "21031d6f-2e64-462f-a22a-c2e5b8c729c5",
   "metadata": {},
   "source": [
    "Por lo que el código para realizar dichas transformaciones será respectivamente:"
   ]
  },
  {
   "cell_type": "code",
   "execution_count": 12,
   "id": "a94e1963-c40f-45b9-8ce9-c9d36ece2c05",
   "metadata": {},
   "outputs": [
    {
     "name": "stdout",
     "output_type": "stream",
     "text": [
      "Ingresa tus coordenadas del punto (r,theta), con theta en grados:\n"
     ]
    },
    {
     "name": "stdin",
     "output_type": "stream",
     "text": [
      " 1\n",
      " 90\n"
     ]
    },
    {
     "name": "stdout",
     "output_type": "stream",
     "text": [
      "La tranformación de tu punto (1.0,90.0) en coord. polares a cartesianas es:\n",
      "(6.123233995736766e-17,1.0)\n"
     ]
    }
   ],
   "source": [
    "import math as mt\n",
    "print(\"Ingresa tus coordenadas del punto (r,theta), con theta en grados:\")\n",
    "r = float(input())\n",
    "theta = float(input())\n",
    "theta_rad = mt.radians(theta)\n",
    "\n",
    "xp = r * mt.cos(theta_rad)\n",
    "yp = r * mt.sin(theta_rad)\n",
    "\n",
    "print(\"La tranformación de tu punto (\" + str(r) + \",\" + str(theta) + \") en coord. polares a cartesianas es:\")\n",
    "print(\"(\" + str(xp) + \",\" + str(yp) + \")\")"
   ]
  },
  {
   "cell_type": "code",
   "execution_count": 15,
   "id": "b4a7c010-1d85-4a60-9b8e-e9250099f96e",
   "metadata": {},
   "outputs": [
    {
     "name": "stdout",
     "output_type": "stream",
     "text": [
      "Ingresa tus coordenadas del punto (x,y):\n"
     ]
    },
    {
     "name": "stdin",
     "output_type": "stream",
     "text": [
      " 1\n",
      " 1\n"
     ]
    },
    {
     "name": "stdout",
     "output_type": "stream",
     "text": [
      "La tranformación de tu punto (1.0,1.0) de coord. cartesianas a polares es:\n",
      "(1.4142135623730951,0.6420926159343306)\n"
     ]
    }
   ],
   "source": [
    "import math as mt\n",
    "print(\"Ingresa tus coordenadas del punto (x,y):\")\n",
    "x = float(input())\n",
    "y = float(input())\n",
    "\n",
    "r_c = mt.sqrt(x**2 + y**2)\n",
    "theta_c1 = 1/(mt.tan(y / x))\n",
    "\n",
    "print(\"La tranformación de tu punto (\" + str(x) + \",\" + str(y) + \") de coord. cartesianas a polares es:\")\n",
    "print(\"(\" + str(r_c) + \",\" + str(theta_c) + \")\")"
   ]
  },
  {
   "cell_type": "markdown",
   "id": "43e20fd8-505b-4d41-9fcb-1ab3fc8aa16b",
   "metadata": {},
   "source": [
    "# Ejercicio 2"
   ]
  },
  {
   "cell_type": "markdown",
   "id": "a5a4e9fe-bad5-4514-b8c3-4416fdad3207",
   "metadata": {},
   "source": [
    "##### Productos vectoriales y matriciales"
   ]
  },
  {
   "cell_type": "markdown",
   "id": "e3226e6d-06d0-4f2f-b7ff-167b7be95cb6",
   "metadata": {},
   "source": [
    "##### Producto interior en $\\mathbb{R}^3$"
   ]
  },
  {
   "cell_type": "code",
   "execution_count": null,
   "id": "de6f36d7-27e9-431a-a41e-e120d972192d",
   "metadata": {},
   "outputs": [],
   "source": [
    "En este caso, "
   ]
  }
 ],
 "metadata": {
  "kernelspec": {
   "display_name": "Python 3 (ipykernel)",
   "language": "python",
   "name": "python3"
  },
  "language_info": {
   "codemirror_mode": {
    "name": "ipython",
    "version": 3
   },
   "file_extension": ".py",
   "mimetype": "text/x-python",
   "name": "python",
   "nbconvert_exporter": "python",
   "pygments_lexer": "ipython3",
   "version": "3.12.5"
  }
 },
 "nbformat": 4,
 "nbformat_minor": 5
}
