{
 "cells": [
  {
   "cell_type": "markdown",
   "id": "b92b3d81-ee2e-4404-871a-33a136519765",
   "metadata": {},
   "source": [
    "# Ejercicio 1"
   ]
  },
  {
   "cell_type": "markdown",
   "id": "4f90b9e9-66ea-4767-8358-73445da44b97",
   "metadata": {},
   "source": [
    "##### Coordenadas polares y cartesianas"
   ]
  },
  {
   "cell_type": "markdown",
   "id": "28e1fc9e-d7e4-456a-9ed6-b8fc6c3d240e",
   "metadata": {},
   "source": [
    "Considerando que la transformación de coordenadas polares a cartesianas se realiza a partir de las siguientes expresiones: "
   ]
  },
  {
   "cell_type": "markdown",
   "id": "ac414731-36eb-4d44-a176-068796a372e2",
   "metadata": {},
   "source": [
    "Cartesianas a polares:"
   ]
  },
  {
   "cell_type": "markdown",
   "id": "c6958360-33e4-42e5-a714-29e495d19442",
   "metadata": {},
   "source": [
    "$$ r = \\sqrt{x^2 + y^2}$$"
   ]
  },
  {
   "cell_type": "markdown",
   "id": "4130a408-cf5a-452f-b063-0519586f4b2a",
   "metadata": {},
   "source": [
    "$$ \\theta = arctan(y/x)$$"
   ]
  },
  {
   "cell_type": "markdown",
   "id": "f109dada-32ba-443a-9b42-3d8e4ef6be3c",
   "metadata": {},
   "source": [
    "Polares a cartesianas:"
   ]
  },
  {
   "cell_type": "markdown",
   "id": "b7e3938a-f69d-43b9-9dec-0f48f3d1eb49",
   "metadata": {},
   "source": [
    "$$ x = rsin(\\theta)$$"
   ]
  },
  {
   "cell_type": "markdown",
   "id": "3fc63043-2c1a-4c64-accc-2977926fa7b3",
   "metadata": {},
   "source": [
    "$$y = rcos(\\theta)$$"
   ]
  },
  {
   "cell_type": "markdown",
   "id": "21031d6f-2e64-462f-a22a-c2e5b8c729c5",
   "metadata": {},
   "source": [
    "Por lo que el código para realizar dichas transformaciones será respectivamente:"
   ]
  },
  {
   "cell_type": "code",
   "execution_count": 12,
   "id": "a94e1963-c40f-45b9-8ce9-c9d36ece2c05",
   "metadata": {},
   "outputs": [
    {
     "name": "stdout",
     "output_type": "stream",
     "text": [
      "Ingresa tus coordenadas del punto (r,theta), con theta en grados:\n"
     ]
    },
    {
     "name": "stdin",
     "output_type": "stream",
     "text": [
      " 1\n",
      " 90\n"
     ]
    },
    {
     "name": "stdout",
     "output_type": "stream",
     "text": [
      "La tranformación de tu punto (1.0,90.0) en coord. polares a cartesianas es:\n",
      "(6.123233995736766e-17,1.0)\n"
     ]
    }
   ],
   "source": [
    "import math as mt\n",
    "print(\"Ingresa tus coordenadas del punto (r,theta), con theta en grados:\")\n",
    "r = float(input())\n",
    "theta = float(input())\n",
    "theta_rad = mt.radians(theta)\n",
    "\n",
    "xp = r * mt.cos(theta_rad)\n",
    "yp = r * mt.sin(theta_rad)\n",
    "\n",
    "print(\"La tranformación de tu punto (\" + str(r) + \",\" + str(theta) + \") en coord. polares a cartesianas es:\")\n",
    "print(\"(\" + str(xp) + \",\" + str(yp) + \")\")"
   ]
  },
  {
   "cell_type": "code",
   "execution_count": 2,
   "id": "b4a7c010-1d85-4a60-9b8e-e9250099f96e",
   "metadata": {},
   "outputs": [
    {
     "name": "stdout",
     "output_type": "stream",
     "text": [
      "Ingresa tus coordenadas del punto (x,y):\n"
     ]
    },
    {
     "name": "stdin",
     "output_type": "stream",
     "text": [
      " 1\n",
      " 1\n"
     ]
    },
    {
     "name": "stdout",
     "output_type": "stream",
     "text": [
      "La tranformación de tu punto (1.0,1.0) de coord. cartesianas a polares es:\n",
      "(1.4142135623730951,0.7853981633974483)\n"
     ]
    }
   ],
   "source": [
    "import math as mt\n",
    "print(\"Ingresa tus coordenadas del punto (x,y):\")\n",
    "x = float(input())\n",
    "y = float(input())\n",
    "\n",
    "r_c = mt.sqrt(x**2 + y**2)\n",
    "theta_c = mt.atan2(y,x)\n",
    "\n",
    "print(\"La tranformación de tu punto (\" + str(x) + \",\" + str(y) + \") de coord. cartesianas a polares es:\")\n",
    "print(\"(\" + str(r_c) + \",\" + str(theta_c) + \")\")"
   ]
  },
  {
   "cell_type": "markdown",
   "id": "43e20fd8-505b-4d41-9fcb-1ab3fc8aa16b",
   "metadata": {},
   "source": [
    "# Ejercicio 2"
   ]
  },
  {
   "cell_type": "markdown",
   "id": "a5a4e9fe-bad5-4514-b8c3-4416fdad3207",
   "metadata": {},
   "source": [
    "##### Productos vectoriales y matriciales"
   ]
  },
  {
   "cell_type": "markdown",
   "id": "21bf4e5f-9644-48ea-b22b-e0641555ddc3",
   "metadata": {},
   "source": [
    "Escribe el pseudocódigo de los algoritmos que realicen las siguientes operaciones vectoriales; así como los respectivos programas en python, sin usar bibliotecas como numpy ni cualquier otra (i.e. usando sólo listas) que implementen dichos algoritmos:"
   ]
  },
  {
   "cell_type": "markdown",
   "id": "1bcfa3b9-d99a-454e-8306-4fdb283724dc",
   "metadata": {},
   "source": [
    "##### Producto interior en $\\mathbb{R}^3$"
   ]
  },
  {
   "cell_type": "markdown",
   "id": "6be1fd0d-1149-4804-bf68-b05b9cfdd9cd",
   "metadata": {},
   "source": [
    "En este caso, para la implementación el usuario del programa debe que insertar las entradas de los vectores. "
   ]
  },
  {
   "cell_type": "markdown",
   "id": "8d06e31d-87f7-47f8-9f46-c704b441a25b",
   "metadata": {},
   "source": [
    "Definimos dos vectores:\n",
    "\n",
    "$\\vec{v}$ = ($v_1$, $v_2$, $v_3$)\n",
    "\n",
    "$\\vec{u}$ = ($u_1$, $u_2$, $u_3$)\n",
    "\n",
    "\n",
    "Defnimos un contador *n* para que vaya sumando cada uno de los elementos:\n",
    "\n",
    "n = 0\n",
    "\n",
    "Entramos en un ciclo for, contando el número de entradas  del vector a multiplicar:\n",
    "\n",
    "**for** i de 1 ⮕ 3 : \n",
    "\n",
    "    n = n + v_i * u_i\n",
    "\n",
    "Imprimir *n*. Debido a que es la suma de cada producto entrada por entrada."
   ]
  },
  {
   "cell_type": "code",
   "execution_count": 48,
   "id": "1f8a015a-d3b8-49cf-97dd-5ad459c3478f",
   "metadata": {},
   "outputs": [
    {
     "name": "stdout",
     "output_type": "stream",
     "text": [
      "Ingresa los valores de tu vector v:\n"
     ]
    },
    {
     "name": "stdin",
     "output_type": "stream",
     "text": [
      " 7\n",
      " 8\n",
      " 9\n"
     ]
    },
    {
     "name": "stdout",
     "output_type": "stream",
     "text": [
      "Ingresa los valores de tu vector u:\n"
     ]
    },
    {
     "name": "stdin",
     "output_type": "stream",
     "text": [
      " 6\n",
      " 2.2\n",
      " 5.99\n"
     ]
    },
    {
     "name": "stdout",
     "output_type": "stream",
     "text": [
      "113.51\n"
     ]
    }
   ],
   "source": [
    "v = []\n",
    "u = []\n",
    "\n",
    "print(\"Ingresa los valores de tu vector v:\")\n",
    "for i in range(3):\n",
    "    M = float(input())\n",
    "    v.append(M) #agregamos las entradas al vector vacío v\n",
    "\n",
    "print(\"Ingresa los valores de tu vector u:\")\n",
    "for i in range(3):\n",
    "    K = float(input())\n",
    "    u.append(K) #agregamos las entradas al vector vacío u\n",
    "\n",
    "f = 0\n",
    "for i in range(3):\n",
    "    f = f + v[i]*u[i]\n",
    "print(f)"
   ]
  },
  {
   "cell_type": "markdown",
   "id": "95bc3aa3-2cd7-44b3-a7b3-34cedbad6bea",
   "metadata": {},
   "source": [
    "##### Producto interior de dos vectores en $\\mathbb{R}^n$"
   ]
  },
  {
   "cell_type": "markdown",
   "id": "ccbd9787-6cd8-41d6-b88e-4e90fa0df1b8",
   "metadata": {},
   "source": [
    "Para la implementación, en este caso, encuentra una manera de generar dos vectores diferentes en $\\mathbb{R}^n$"
   ]
  },
  {
   "cell_type": "markdown",
   "id": "b072e742-eb79-4e53-94ce-98c29000d5cf",
   "metadata": {},
   "source": [
    "Definimos dos vectores:\n",
    "\n",
    "$\\vec{v}$ = ($v_1$, $v_2$, ..., $v_n$)\n",
    "\n",
    "$\\vec{u}$ = ($u_1$, $u_2$, ..., $u_n$)\n",
    "\n",
    "\n",
    "Defnimos un contador *n* para que vaya sumando cada uno de los elementos:\n",
    "\n",
    "n = 0\n",
    "\n",
    "Entramos en un ciclo for, contando el número de entradas  del vector a multiplicar:\n",
    "\n",
    "**for** i de 1 ⮕ n : \n",
    "\n",
    "    n = n + v_i * u_i\n",
    "\n",
    "Imprimir *n*. Debido a que es la suma de cada producto entrada por entrada."
   ]
  },
  {
   "cell_type": "code",
   "execution_count": 52,
   "id": "9c413b76-17a4-460e-823b-91255211d542",
   "metadata": {},
   "outputs": [
    {
     "name": "stdin",
     "output_type": "stream",
     "text": [
      "Ingresa la dimensión de tus vectores: 3\n"
     ]
    },
    {
     "name": "stdout",
     "output_type": "stream",
     "text": [
      "Siendo tus vectores: v =  [79 23 87] y u =  [80 83  1] . El producto punto entre ellos es igual a  8316\n"
     ]
    }
   ],
   "source": [
    "import numpy as np\n",
    "dim = int(input(\"Ingresa la dimensión de tus vectores:\"))\n",
    "m = dim\n",
    "\n",
    "v = np.random.randint(1,100, size = m)\n",
    "u = np.random.randint(1,100, size = m)\n",
    "\n",
    "f = 0\n",
    "for i in range(dim):\n",
    "    f = f + v[i]*u[i]\n",
    "print(\"Siendo tus vectores: v = \", v, \"y u = \", u, \". El producto punto entre ellos es igual a \", f) "
   ]
  },
  {
   "cell_type": "markdown",
   "id": "1b5fafad-b1a1-4167-b11b-f2da521addf2",
   "metadata": {},
   "source": [
    "##### Producto de una matriz en $\\mathbb{A} \\in \\mathbb{R}^{nxn}$ por un vector de $\\mathbb{R}^n$"
   ]
  },
  {
   "cell_type": "markdown",
   "id": "74108195-cd55-479d-9b92-ab026e280d24",
   "metadata": {},
   "source": [
    "Para la implementación las entradas tanto del vector como de la matriz deben leerse de un archivo de datos (que tú puedes generar)."
   ]
  },
  {
   "cell_type": "markdown",
   "id": "6e05e228-b6b5-4b5a-9c21-9add57fa81d3",
   "metadata": {},
   "source": [
    "Generamos un vector y una matriz: \n",
    "\n",
    "$v = (v_1, v_2, ..., v_n)$ \n",
    "\n",
    "$M = ((m_{11}, m_{12}, ..., m_{1n}), ..., (m_{n1}, m_{n2}, ..., m_{nn}))$\n"
   ]
  },
  {
   "cell_type": "markdown",
   "id": "298bab5f-c7e6-4696-a64b-7f50a38fe673",
   "metadata": {},
   "source": [
    "Donde $M$ lo definimos como una lista de listas para visualizarlo mejor a la hora de implementarlo en el código. De esta manera, siendo que el producto de una matriz por un vector genera un vector, definimos un vector vacío para ir guardando las entradas resultantes que vayamos generando:\n",
    "\n",
    "$u = (u_1, u_2, ..., u_n)$"
   ]
  },
  {
   "cell_type": "markdown",
   "id": "f09177b1-43f7-4090-a9e6-e69cce292f78",
   "metadata": {},
   "source": [
    "Entramos en un ciclo **for** para poder ir recorriendo cada una de las entradas: \n",
    "\n",
    "Para cada i de 1 ⮕ n: \n",
    "\n",
    "    Para cada j de 1 ⮕ n:\n",
    "\n",
    "        u_i = u_i + A_ij * v_i\n",
    "\n",
    "        Añadir elemento u_i a la entrada i del vector u\n",
    "\n",
    "Imprimir el vector u"
   ]
  },
  {
   "cell_type": "markdown",
   "id": "31313a12-e288-4e27-9734-67be99f39ba8",
   "metadata": {},
   "source": [
    "##### Producto de dos matrices $\\mathbb{A}, \\mathbb{A} \\in \\mathbb{R}^{nxn}$"
   ]
  },
  {
   "cell_type": "markdown",
   "id": "e64fa47c-600b-4bb8-976e-567cfe5fff2a",
   "metadata": {},
   "source": [
    "En la implementación de las entradas de ambas matrices deben leerse de un archivo de datos (que tú generes)."
   ]
  },
  {
   "cell_type": "markdown",
   "id": "06b6c088-79ae-43e7-8431-702d67f17ae1",
   "metadata": {},
   "source": [
    "Generamos un vector y una matriz: \n",
    "\n",
    "$N = ((n_{11}, n_{12}, ..., n_{1n}), ..., (n_{n1}, n_{n2}, ..., n_{nn}))$ \n",
    "\n",
    "$M = ((m_{11}, m_{12}, ..., m_{1n}), ..., (m_{n1}, m_{n2}, ..., m_{nn}))$\n",
    "\n",
    "Donde $N$ y $M$ las definimos como una lista de listas para visualizarlo mejor a la hora de implementarlo en el código. De esta manera, siendo que el producto de una matriz por otra matriz de misma dimensión genera otra matriz de dicha dim., definimos una matriz vacía para ir guardando las entradas resultantes que vayamos generando:\n",
    "\n",
    "$L = ((l_{11}, l_{12}, ..., l_{1n}), ..., (l_{n1}, l_{n2}, ..., l_{nn}))$\n",
    "\n",
    "Entramos en dos ciclos **for** para poder ir recorriendo cada una de las entradas: \n",
    "\n",
    "Para cada i de 1 ⮕ n: \n",
    "\n",
    "    Para cada j de 1 ⮕ n:\n",
    "\n",
    "        l_ij = l_i + n_ij * m_ji\n",
    "\n",
    "        Añadir elemento u_ij a la entrada ij de la matriz L\n",
    "\n",
    "Imprimir la matriz L"
   ]
  },
  {
   "cell_type": "markdown",
   "id": "1db4fef5-94b1-4fb2-a5d6-f87039bcbfb2",
   "metadata": {},
   "source": [
    "##### Funciones"
   ]
  },
  {
   "cell_type": "markdown",
   "id": "45017f6a-fb2e-4e6a-9bb5-09a2c6566dee",
   "metadata": {},
   "source": [
    "Convierte tus códigos en funciones y generaliza todo en una única función que realice el producto de dos matrices $\\mathbb{A} \\in \\mathbb{R}^{nxn}$ y $\\mathbb{B} \\in \\mathbb{R}^{nxn}$, así como el cálculo de cualquiera de los incisos anteriores, dependiendo de la entrada que se le da a la función. En todos los casos, las entradas deben leerse de un archivo de datos. "
   ]
  },
  {
   "cell_type": "markdown",
   "id": "2e64e281-d71a-4d9a-ac3e-f098ad0339f8",
   "metadata": {},
   "source": [
    "El pseudocódigo como se deduce de los anteriores ejemplos se obtiene particularmente del productor punto entre los vectores de dimensión n. Esto debido a que, particularmente en el caso de las matrices, estas son corformadas por listas en una lista, y dichas listas se pueden ver como entradas de los vectores:\n",
    "\n",
    "**definimos** producto(v,u,m):\n",
    "\n",
    "    v = [v_1, v_2, ..., v_n]\n",
    "    \n",
    "    u = [u_1, u_2, ..., u_n]\n",
    "    \n",
    "    n = 0\n",
    "\n",
    "    for i in range(m):\n",
    "        n = n + v_i * v_i\n",
    "\n",
    "    Imprimir n"
   ]
  },
  {
   "cell_type": "markdown",
   "id": "6126988a-2b09-434a-a592-9fab5df4d0aa",
   "metadata": {},
   "source": [
    "# Ejercicio 3"
   ]
  },
  {
   "cell_type": "markdown",
   "id": "4ee19b4d-393d-40ec-b0e6-8495c8762c05",
   "metadata": {},
   "source": [
    "##### Caida de una pelota desde una torre"
   ]
  },
  {
   "cell_type": "markdown",
   "id": "03334a41-a596-4699-9e97-afe0f20a00a2",
   "metadata": {},
   "source": [
    "Se deja caer una pelota desde una torre de altura $h$. Tienen velocidad inicial cero y acelera hacia abajo con la gravedad. Escribe un programa que le pida al usuario que ingrese la altura en metros de la torre y luego calcule e imprima el tiempo en segundos hasta que la pelota toque el suelo (ignora la resistencia del aire)."
   ]
  },
  {
   "cell_type": "markdown",
   "id": "8593063a-b639-4bb9-baba-fb264df14933",
   "metadata": {},
   "source": [
    "Siendo que se trata de un movimiento acelerado, podemos aplicar las ecuaciones para obtener el tiempo del choque de la pelota contra el suelo. Para ello, siendo que: "
   ]
  },
  {
   "cell_type": "markdown",
   "id": "01b2871f-02e7-4be7-9df2-aa5ffae702aa",
   "metadata": {},
   "source": [
    "$$ V_{f} = V_{i} + at$$\n",
    "$$ V_{f}^2 = V_{i}^2 + 2ah$$"
   ]
  },
  {
   "cell_type": "markdown",
   "id": "9e5f7c9c-6dc4-4702-9001-f2a369140168",
   "metadata": {},
   "source": [
    "Donde $V_{f}$ y $V_{i}$ son las velocidades final e inicial, $a$ es la aceleración, en este caso, tomará el valor de $g=9.8 m/s$ y $h$ es la altura. Sin embargo, al ser que $V_{i}=0$, entonces podemos obtener el tiempo con:  "
   ]
  },
  {
   "cell_type": "markdown",
   "id": "b02ceda5-8a9f-4314-ab33-423fee498209",
   "metadata": {},
   "source": [
    "$$t = \\frac{\\sqrt{2ah}}{a}$$"
   ]
  },
  {
   "cell_type": "code",
   "execution_count": 13,
   "id": "a2897f8c-bebe-4af5-bc12-367f286204bf",
   "metadata": {},
   "outputs": [
    {
     "name": "stdin",
     "output_type": "stream",
     "text": [
      "Ingresa la altura desde la que se deja caer la pelota: 100\n"
     ]
    },
    {
     "name": "stdout",
     "output_type": "stream",
     "text": [
      "La pelota toca el suelo a un tiempo de 4.5175395145262565 s\n"
     ]
    }
   ],
   "source": [
    "import math as mt\n",
    "a = 9.8\n",
    "h = int(input(\"Ingresa la altura desde la que se deja caer la pelota:\"))\n",
    "\n",
    "t = (mt.sqrt(vi**2 + 2*a*h)) / a\n",
    "\n",
    "print(\"La pelota toca el suelo a un tiempo de\", t, \"s\")"
   ]
  },
  {
   "cell_type": "markdown",
   "id": "1b64e2ea-6019-4007-9964-2821a833e70c",
   "metadata": {},
   "source": [
    "Después usa tu programa para calcular el tiempo de una pelota lanzada desde una torre de 100m de altura."
   ]
  },
  {
   "cell_type": "markdown",
   "id": "cbc1df08-357e-4c63-98e6-803a2381847a",
   "metadata": {},
   "source": [
    "Al calcular, se obtiene que a una altura de $100m$, tarda un tiempo de $4.5175395145262565 s$ para que la pelota choque con el suelo."
   ]
  },
  {
   "cell_type": "markdown",
   "id": "51c6a551-57db-4bcd-bfaf-9bf6c56cb6d8",
   "metadata": {},
   "source": [
    "# Ejercicio 4"
   ]
  },
  {
   "cell_type": "markdown",
   "id": "7b8e9e0f-6931-43a2-b286-aa2b2e685148",
   "metadata": {},
   "source": [
    "Se va a lanzar un satélite en una órbita circular alrededor de la Tierra de modo que orbite el planeta una vez cada $T$ segundos. \n",
    "\n",
    "a) Demuestre que la altitud $h$ sobre la superficie de la Tierra que debe tener el satélite es \n",
    "$$ h = (\\frac{GMT^2}{4 \\pi^2})^{1/3} - R $$\n",
    "\n",
    "*Ver el archivo anexado en Classroom"
   ]
  },
  {
   "cell_type": "markdown",
   "id": "603cd191-2db3-4ae5-a252-d569f1895348",
   "metadata": {},
   "source": [
    "b) Escribe un programa que le pida al usuario que ingrese el valor deseado de T y luego calcula e imprima la altitud correcta en metros."
   ]
  },
  {
   "cell_type": "markdown",
   "id": "b52d33ef-7521-4876-b60f-cf98963aad16",
   "metadata": {},
   "source": [
    "Siendo que la altura debe que ser dada en metros, basta con considerar el radio de la tierra como $R=6371000 m$,\n",
    "de esta manera, utilizando la ecuación del inciso a), se tiene que:"
   ]
  },
  {
   "cell_type": "code",
   "execution_count": 34,
   "id": "58eeda14-9406-4fde-9c1c-3c947bce0b97",
   "metadata": {},
   "outputs": [
    {
     "name": "stdin",
     "output_type": "stream",
     "text": [
      "¿Deseas ingresar el período en horas (h) o minutos (m)? m\n",
      "Ingresa el período T al que orbita el satélite: 45\n"
     ]
    },
    {
     "name": "stdout",
     "output_type": "stream",
     "text": [
      "El satélite órbita a una altura de -2181559.8978108233 m respecto de la Tierra\n"
     ]
    }
   ],
   "source": [
    "import math as mt\n",
    "def altitud(T): # Definimos una función para calcular la altitud\n",
    "    G = 6.67E-11\n",
    "    M = 5.97E24\n",
    "    R = 6371000\n",
    "    h = ((G*M*(T**2))/(4*(mt.pi**2)))**(1/3)-R\n",
    "    return h\n",
    "    \n",
    "Tp = input(\"¿Deseas ingresar el período en horas (h) o minutos (m)?\")\n",
    "\n",
    "if Tp == \"h\": #usamos el if para evitar pedir al usuario que ponga sólo T en minutos\n",
    "    T = 60*60*int(input(\"Ingresa el período T al que orbita el satélite:\"))\n",
    "    H = altitud(T)\n",
    "else: \n",
    "    T = 60*int(input(\"Ingresa el período T al que orbita el satélite:\"))\n",
    "    H = altitud(T)\n",
    "\n",
    "print(\"El satélite órbita a una altura de\", H, \"m respecto de la Tierra\") "
   ]
  },
  {
   "cell_type": "markdown",
   "id": "c80e1d56-8aea-4224-b570-1c26bfb2dbdc",
   "metadata": {},
   "source": [
    "c) Utiliza tu programa para calular las altitudes de los satélites que orbitan la Tierra una vez al día (la llamada órbita geoestacionaria), una vez cada 90 minutos y una vez cada 45 minutos. ¿Qué concluyes de este último cálculo?"
   ]
  },
  {
   "cell_type": "markdown",
   "id": "f2e6f50a-0779-4d12-8f6c-21ad8e5a827d",
   "metadata": {},
   "source": [
    "Para la órbita geoestacionaria, la altitud del satélite es de $35855910.176174976 m$; para el satélite con período de $90 min$ es de $279321.6253728606m$ y por último, para el satélite de $45 min$ es de $-2181559.8978108233 m$. El que la altura para el último satélite sea negativa implica que el radio del planeta en que órbite el satélite debe que ser menor al de la Tierra. Esto es debido a que T debería que ser mayor a $5063.38783$. Esto se obtiene a partir de que:\n",
    "\n",
    "$$h > 0 $$\n",
    "$$ (\\frac{GMT^2}{4 \\pi^2})^{1/3} - R > 0 $$\n",
    "$$ \\frac{GMT^2}{4 \\pi^2} > R^3 $$\n",
    "$$ T^2 > \\frac{4 \\pi R^3}{GM} $$\n",
    "$$ T > 2 \\pi (\\frac{R^3}{GM})^{1/2} \\approx 5063.38783 s = 84.38 min $$"
   ]
  },
  {
   "cell_type": "markdown",
   "id": "605f1e58-b28d-4b20-8113-61be0125c7f0",
   "metadata": {},
   "source": [
    "# Ejercicio 5"
   ]
  },
  {
   "cell_type": "markdown",
   "id": "fdac77cf-ece5-4190-a925-50a4a5add9b4",
   "metadata": {},
   "source": [
    "Una nave espacial viaja desde la Tierra en línea recta a una velocidad relativista $v$ a otro planeta a $x$ años luz de distancia. Escribe un programa que le pida al usuario el valor de $x$ y la velocidad $v$ como una fracción de la velocidad de la luz $c$, y que imprima el tiempo en años que tarda la nave espacial en llegar a su destino. "
   ]
  },
  {
   "cell_type": "markdown",
   "id": "f444d7ab-6d3a-4a70-9036-c9f0d690ae86",
   "metadata": {},
   "source": [
    "a) en el marco de reposo de un observador en la Tierra y"
   ]
  },
  {
   "cell_type": "markdown",
   "id": "738bfa3c-7e6a-4235-9369-3e8ff3440614",
   "metadata": {},
   "source": [
    "Siendo que para el observador de la Tierra, el tiempo viene dado por \n",
    "$$ t_{T} = \\frac{x}{v}$$\n",
    "Se tiene que el código va a ser:"
   ]
  },
  {
   "cell_type": "code",
   "execution_count": 39,
   "id": "da9272e7-2510-40a6-95e2-736248db07e2",
   "metadata": {},
   "outputs": [
    {
     "name": "stdin",
     "output_type": "stream",
     "text": [
      "Ingresa la distancia (en años luz) que recorrerá la nave: 10\n",
      "Ingresa la velocidad de la nave (fracción de años luz): 0.99\n"
     ]
    },
    {
     "name": "stdout",
     "output_type": "stream",
     "text": [
      "El tiempo que tarda la nave en llegar a su destino visto desde la Tierra es de 10.1010101010101 años\n"
     ]
    }
   ],
   "source": [
    "x = int(input(\"Ingresa la distancia (en años luz) que recorrerá la nave:\"))\n",
    "v = float(input(\"Ingresa la velocidad de la nave (fracción de años luz):\"))\n",
    "\n",
    "t_T = x / v\n",
    "\n",
    "print(\"El tiempo que tarda la nave en llegar a su destino visto desde la Tierra es de\", t_T, \"años luz.\")"
   ]
  },
  {
   "cell_type": "markdown",
   "id": "7342c995-0a3b-4ee5-b960-053fd2c1f64b",
   "metadata": {},
   "source": [
    "b) como lo percibiría un pasajero a bordo de la nave."
   ]
  },
  {
   "cell_type": "markdown",
   "id": "d50e7bba-66a3-498d-b583-46ea3fef6410",
   "metadata": {},
   "source": [
    "Siendo que el pasajero a bordo de la nave está sujeto a la dilatación del tiempo que experimenta debido a la velocidad con la que va viajando, éste se describe a partir de la transformación de Lorentz:\n",
    "$$t_{nave} = \\frac{x}{v}\\sqrt{1-\\frac{v}{c}^2}$$\n",
    "Con $c=1$ para normalizar los resultados. Calculando el tiempo transcurrido para el pasajero a bordo, se tienen que el código será:"
   ]
  },
  {
   "cell_type": "code",
   "execution_count": 40,
   "id": "b49aaae5-8521-474e-a2c3-bff626a1f338",
   "metadata": {},
   "outputs": [
    {
     "name": "stdin",
     "output_type": "stream",
     "text": [
      "Ingresa la distancia (en años luz) que recorrerá la nave: 10\n",
      "Ingresa la velocidad de la nave (fracción de años luz): 0.99\n"
     ]
    },
    {
     "name": "stdout",
     "output_type": "stream",
     "text": [
      "El tiempo que tarda la nave en llegar a su destino percibido desde la nave es de 1.424922826228878 años luz\n"
     ]
    }
   ],
   "source": [
    "import math as mt\n",
    "x = int(input(\"Ingresa la distancia (en años luz) que recorrerá la nave:\"))\n",
    "v = float(input(\"Ingresa la velocidad de la nave (fracción de años luz):\"))\n",
    "\n",
    "t_n = (x / v) * mt.sqrt(1-v**2)\n",
    "\n",
    "print(\"El tiempo que tarda la nave en llegar a su destino percibido desde la nave es de\", t_n, \"años luz.\")"
   ]
  },
  {
   "cell_type": "markdown",
   "id": "7ca42be0-8e00-406e-aa8e-35a787643da1",
   "metadata": {},
   "source": [
    "Usa tu programa para calcular las respuestas para un planeta a 10 años luz de distancia con $v = 0.99c$"
   ]
  },
  {
   "cell_type": "markdown",
   "id": "04e6cbef-1f51-4df4-b61a-18998647b126",
   "metadata": {},
   "source": [
    "Para la persona en la Tierra, se tiene que el tiempo de $10.1010101010101$ años luz. Mientras que para el pasajero en la nave, será de $1.424922826228878$ años luz."
   ]
  }
 ],
 "metadata": {
  "kernelspec": {
   "display_name": "Python 3 (ipykernel)",
   "language": "python",
   "name": "python3"
  },
  "language_info": {
   "codemirror_mode": {
    "name": "ipython",
    "version": 3
   },
   "file_extension": ".py",
   "mimetype": "text/x-python",
   "name": "python",
   "nbconvert_exporter": "python",
   "pygments_lexer": "ipython3",
   "version": "3.12.5"
  }
 },
 "nbformat": 4,
 "nbformat_minor": 5
}
