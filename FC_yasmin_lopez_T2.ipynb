{
 "cells": [
  {
   "cell_type": "markdown",
   "id": "373a73c0-6411-45ca-8eb5-7a06fceb569d",
   "metadata": {},
   "source": [
    "# Ejercicio 1"
   ]
  },
  {
   "cell_type": "markdown",
   "id": "d4940e24-975b-427e-9879-10a2d57d1cac",
   "metadata": {},
   "source": [
    "##### 1. Órbitas planetarias"
   ]
  },
  {
   "cell_type": "markdown",
   "id": "24ec64cf-899f-44f8-ae2d-54366d2777b1",
   "metadata": {},
   "source": [
    "a) La segunda ley de Kepler nos dice que la distancia $l^2$ y la velocidad $v_2$ del planeta en su punto más distante, o afelio, que satisfacen que $l_2v_2=l_1v_1$. Al mismo tiempo, la energía total, cinética más la gravitatoria, de un planeta con velocidad $v$ y distancia $r$ del Sol está dada por:\n",
    "$$E=\\frac{1}{2}mv^2-G\\frac{mM}{r}$$"
   ]
  },
  {
   "cell_type": "markdown",
   "id": "122c303c-f0bd-4790-ad24-bdbc5bcf9751",
   "metadata": {},
   "source": [
    "b)Dados los valores de $v_1$, $l_1$ y $l_2$; otros parámetros de la órbita se obtienen mediante fórmulas simples que pueden rderivarse de las leyes de Kepler y del hecho de que la órbita es una elipse:\n"
   ]
  },
  {
   "cell_type": "markdown",
   "id": "fdd67e6a-dc6b-4d32-9a53-673581361275",
   "metadata": {},
   "source": [
    "Semieje mayor:\n",
    "$$ a = \\frac{1}{2} (l_1+l_2)$$\n",
    "Semieje menor:\n",
    "$$ b = \\sqrt{l_1l_2}$$\n",
    "Período orbital:\n",
    "$$T=\\frac{2 \\pi ab}{l_1v_1}$$\n",
    "Excentricidad orbital:\n",
    "$$ e = \\frac{l2-l_1}{l_1+l_2}$$"
   ]
  },
  {
   "cell_type": "markdown",
   "id": "aad5e25c-154f-4a2f-b60b-16bf3c965a91",
   "metadata": {},
   "source": [
    "Escribe un programa que le pida al usuario que ingrese la distancia al Sol y la velocidad en el perihelio; par que calcule e imprima las cantidades $l_2$. $v_2$, $T$ y $e$."
   ]
  },
  {
   "cell_type": "markdown",
   "id": "f3e80976-299d-4eaf-86b2-a42b007a825e",
   "metadata": {},
   "source": [
    "c) Prueba tu programa haciendo que calcule las propiedades de las órbitas de la Tierra (para las cuales $l_1=1.4710 \\times 10^{11}$m y $v_1=3.0287 \\times 10^4$m/s) y del cometa Halley ($l_1=8.7830 \\times 10^{11}$m y $v_1=5.4529 \\times 10^4$m/s). Entre otras cosas, deberías encontrar que el período orbital de la Tierra es de un año y el del cometa Halley es de unos 76 años."
   ]
  },
  {
   "cell_type": "markdown",
   "id": "c7903a3d-abaf-4851-8c47-ca1904319ec7",
   "metadata": {},
   "source": [
    "##### 2. La constante de Madelung"
   ]
  },
  {
   "cell_type": "markdown",
   "id": "439ca269-f2c4-4b7b-b327-7a10e7590f90",
   "metadata": {},
   "source": [
    "Escribe un programa para calcular e imprimir la constante de MAdelung para el cloruroo de sodio. Utiliza un valor de *L* tan grande com puedas, sin dejar que tu programa se ejecute es un tiempo razonable (un minuto o menos). "
   ]
  },
  {
   "cell_type": "markdown",
   "id": "44f9a030-7592-4896-b43a-089215f1b343",
   "metadata": {},
   "source": [
    "##### Ejercicio 3"
   ]
  },
  {
   "cell_type": "markdown",
   "id": "97a5e535-09bf-48ae-9b90-7528f65c2fc7",
   "metadata": {},
   "source": [
    "Ciefucuebtes binomiales "
   ]
  },
  {
   "cell_type": "markdown",
   "id": "61fc2a93-17a6-4bad-ad8b-5c65033182cd",
   "metadata": {},
   "source": [
    "a) Utilliza esta formula para escribir una función llamada ninomial (n,k) (o como tu quieras) que calcule el coeficiente binomial para un n y k dados. Asegúrate de que tu función devuelva la respuesta en forma de un número entero (no flotante) y proporcione el valor correcto de 1 para el cas en que k=0."
   ]
  },
  {
   "cell_type": "markdown",
   "id": "61be8b8f-a874-490b-baf6-c6b2399e7940",
   "metadata": {},
   "source": [
    "b) Usando tu función, escribe un programa que imprima las primeras 20 líneas"
   ]
  }
 ],
 "metadata": {
  "kernelspec": {
   "display_name": "Python 3 (ipykernel)",
   "language": "python",
   "name": "python3"
  },
  "language_info": {
   "codemirror_mode": {
    "name": "ipython",
    "version": 3
   },
   "file_extension": ".py",
   "mimetype": "text/x-python",
   "name": "python",
   "nbconvert_exporter": "python",
   "pygments_lexer": "ipython3",
   "version": "3.12.4"
  }
 },
 "nbformat": 4,
 "nbformat_minor": 5
}
