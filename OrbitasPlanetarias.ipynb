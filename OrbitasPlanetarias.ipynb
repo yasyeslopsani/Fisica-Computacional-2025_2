{
  "nbformat": 4,
  "nbformat_minor": 0,
  "metadata": {
    "colab": {
      "provenance": []
    },
    "kernelspec": {
      "name": "python3",
      "display_name": "Python 3"
    },
    "language_info": {
      "name": "python"
    }
  },
  "cells": [
    {
      "cell_type": "markdown",
      "source": [
        "**Órbitas planetarias:** En el espacio, la órbita de un cuerpo alrededor de otro (como un planeta alrededor del Sol), no necesariamente es circular. En general, toma la forma de una elipse, con el cuerpo a veces más cerca y otras más lejos. Si tenemos la distancia $\\ell_1$ de máxima aproximación de un planeta al Sol (su *perihelio*), y su velocidad lineal $v_1$ en el perihelio, entonces cualquier otra propiedad de la órbita se puede calcular a partir de estas dos cantidades de la siguiente manera:"
      ],
      "metadata": {
        "id": "oUkGoSnTfxm7"
      }
    },
    {
      "cell_type": "markdown",
      "source": [
        "   \n",
        "**a)** La segunda ley de Kepler nos dice que la distancia $\\ell_2$ y la velocidad $v_2$ del planeta en su punto más distante, o *afelio*, satisfacen que $\\ell_2 v_2 = \\ell_1 v_1$.  Al mismo tiempo, la energía total, cinética más la gravitatoria, de un planeta con velocidad $v$ y distancia $r$ del Sol está dada por:\n",
        "\n",
        "<h3 align=\"center\">$E = \\frac{1}{2} m v^2 - G {mM\\over r}$,</h3>\n",
        "        \n",
        "donde $m$ es la masa del planeta, $M=1.9891\\times10^{30}\\,$kg es la masa del Sol y $G=6.6738\\times10^{-11}\\,\\mathrm{m^3\\,kg^{-1}\\,s^{-2}}$ es la constante gravitatoria de Newton. Dado que la energía debe conservarse, demuestre que $v_2$ es la raíz más pequeña de la ecuación cuadrática:\n",
        "\n",
        "<h3 align=\"center\">$v_2^2 - {2GM\\over v_1\\ell_1} v_2 - \\biggl[ v_1^2 - {2GM\\over\\ell_1} \\biggr] = 0$.</h3>\n",
        "\n",
        "Una vez que tenemos $v_2$ podemos calcular $\\ell_2$  usando la relación $\\ell_2 = \\ell_1 v_1/v_2$."
      ],
      "metadata": {
        "id": "XJHoBZRrghR-"
      }
    },
    {
      "cell_type": "markdown",
      "source": [
        "**b)** Dados los valores de $v_1$, $\\ell_1$, y $\\ell_2$; otros parámetros de la órbita se obtienen mediante fórmulas simples que pueden derivarse de las leyes de Kepler y del hecho de que la órbita es una elipse:\n",
        "\n",
        "<h4 align=\"center\">Semieje mayor: $\\; \\; \\; a = \\frac{1}{2}(\\ell_1+\\ell_2)$,</h4>\n",
        "\n",
        "<h4 align=\"center\">Semieje menor: $\\; \\; \\; b = \\sqrt{\\ell_1\\ell_2}$,</h4>\n",
        "\n",
        "<h4 align=\"center\">Período orbital: $\\; \\; \\; T = {2\\pi ab\\over\\ell_1 v_1}$,</h4>\n",
        "\n",
        "<h4 align=\"center\">Excentricidad orbital: $\\; \\; \\; e = {\\ell_2-\\ell_1\\over\\ell_2+\\ell_1}$.</h4>\n",
        "\n",
        "Escribe un programa que le pida al usuario que ingrese la distancia al Sol y la velocidad en el perihelio; para que calcule e imprima las cantidades:\n",
        "\n",
        "$\\ell_2$, $v_2$, $T$ y $e$."
      ],
      "metadata": {
        "id": "njDbgChHfz-u"
      }
    },
    {
      "cell_type": "markdown",
      "source": [],
      "metadata": {
        "id": "Ub40Y2GNf83v"
      }
    },
    {
      "cell_type": "markdown",
      "source": [
        " $ v_2 = \\frac{1}{2} [{2GM\\over \\ell_1 v_1} ± \\sqrt{{({2GM\\over \\ell_1 v_1})}^2 + 4 (v_1^2 - {2GM\\over \\ell_1}) }] $"
      ],
      "metadata": {
        "id": "E6fox9DPg84G"
      }
    },
    {
      "cell_type": "code",
      "source": [
        "#Programa para calcular la velocidad del perihelio con los datos ingresados por el usuario.\n",
        "\n",
        "import math as mt\n",
        "\n",
        "l = float(input('Ingrese la distancia que hay de la Tierra al sol en el perihelio en metros y notación cientifica '))\n",
        "v = float(input('Ingrese la velocidad que hay en el afelio en m/s y notación cientifica '))\n",
        "G = float(0.000000000066738)\n",
        "M = float(1989100000000000000000000000000)\n",
        "pi = float(mt.pi)\n",
        "\n",
        "l1 = l*(10**(11))\n",
        "v1 = v*(10**(4))\n",
        "\n",
        "s = 4*(v1**2 - ((2*G*M)/(l1)))\n",
        "r = ((2*G*M)/(l1*v1))**2\n",
        "q = (s+r)**(1/2)\n",
        "p = (2*G*M)/(l1*v1)\n",
        "\n",
        "v2 = (1/2)*(p + q)\n",
        "\n",
        "l2 = (l1*v1)/v2\n",
        "\n",
        "a = (l1 + l2)/2\n",
        "\n",
        "b = (l1*l2)**(1/2)\n",
        "\n",
        "T = (2*pi*a*b)/(l1*v1)\n",
        "\n",
        "e = (l2 - l1)/(l1 + l2)\n",
        "\n",
        "\n",
        "print(\"La distancia en su punto mas distante (afelio) es de \" , l2 , \"metros.\")\n",
        "print(\"La velocidad en su punto mas distante (afelio) es de \" , v2 , \"metros.\" )\n",
        "print(\"El periodo orbital es de\" , T , \"segundos.\")\n",
        "print(\"La exentricidad orbital es de \" , e )"
      ],
      "metadata": {
        "colab": {
          "base_uri": "https://localhost:8080/"
        },
        "id": "21lHXvhhg8Tt",
        "outputId": "770ab100-60e6-485e-bdef-c5dff43255ef"
      },
      "execution_count": 1,
      "outputs": [
        {
          "output_type": "stream",
          "name": "stdout",
          "text": [
            "Ingrese la distancia que hay de la Tierra al sol en el perihelio en metros y notación cientifica 1.4710\n",
            "Ingrese la velocidad que hay en el afelio en m/s y notación cientifica 3.0287\n",
            "La distancia en su punto mas distante (afelio) es de  147099999999.99982 metros.\n",
            "La velocidad en su punto mas distante (afelio) es de  30287.000000000036 metros.\n",
            "El periodo orbital es de 30516609.723185394 segundos.\n",
            "La exentricidad orbital es de  -6.223843261386815e-16\n"
          ]
        }
      ]
    },
    {
      "cell_type": "markdown",
      "source": [
        "**c)** Prueba tu programa haciendo que calcule las propiedades de las órbitas de la Tierra (para las cuales $\\ell_1=1.4710\\times10^{11}\\,$m y $v_1=3.0287\\times10^4\\,\\mathrm{m\\,s^{-1}}$)  y del cometa Halley ($\\ell_1=8.7830\\times10^{10}\\,$m y $v_1=5.4529\\times10^4\\,\\mathrm{m\\,s^{-1}}$). Entre otras cosas, deberías encontrar que el período orbital de la Tierra es de un año y el del cometa Halley es de unos 76 años."
      ],
      "metadata": {
        "id": "s1KxozVDhIBB"
      }
    },
    {
      "cell_type": "code",
      "execution_count": 2,
      "metadata": {
        "colab": {
          "base_uri": "https://localhost:8080/"
        },
        "id": "86ztDdSke5H0",
        "outputId": "f06773bf-2449-4f80-b7c7-16502f8676d4"
      },
      "outputs": [
        {
          "output_type": "stream",
          "name": "stdout",
          "text": [
            "La distancia en su punto mas distante (afelio) es de  152027197208.65994 metros.\n",
            "La velocidad en su punto mas distante (afelio) es de  29305.39917726127 metros.\n",
            "El periodo orbital es de 31543060.207886923 segundos o bien  0.999539261790723 años.\n",
            "La exentricidad orbital es de  0.01647191313474219\n"
          ]
        }
      ],
      "source": [
        "#Programa para calcular diversas propiedades de las orbitas de la Tierra\n",
        "\n",
        "import math as mt\n",
        "\n",
        "G = float(0.000000000066738)\n",
        "M = float(1989100000000000000000000000000)\n",
        "pi = float(mt.pi)\n",
        "\n",
        "l1 = 1.4710*(10**(11))\n",
        "v1 = 3.0287*(10**(4))\n",
        "\n",
        "\n",
        "s = 4*(v1**2 - ((2*G*M)/(l1)))\n",
        "r = ((2*G*M)/(l1*v1))**2\n",
        "q = (s+r)**(1/2)\n",
        "p = (2*G*M)/(l1*v1)\n",
        "\n",
        "v2 = (1/2)*(p - q)\n",
        "\n",
        "l2 = (l1*v1)/v2\n",
        "\n",
        "a = (l1 + l2)/2\n",
        "\n",
        "b = (l1*l2)**(1/2)\n",
        "\n",
        "T = (2*pi*a*b)/(l1*v1)\n",
        "T0 = T/31557600\n",
        "\n",
        "e = float((l2-l1)/(2*a))\n",
        "\n",
        "\n",
        "print(\"La distancia en su punto mas distante (afelio) es de \" , l2 , \"metros.\")\n",
        "print(\"La velocidad en su punto mas distante (afelio) es de \" , v2 , \"metros.\" )\n",
        "print(\"El periodo orbital es de\" , T , \"segundos o bien \" , T0 , \"años.\")\n",
        "print(\"La exentricidad orbital es de \" , e )"
      ]
    },
    {
      "cell_type": "code",
      "source": [
        "#Programa para calcular diversas propiedades de la orbita del cometa Halley\n",
        "\n",
        "import math as mt\n",
        "\n",
        "G = float(0.000000000066738)\n",
        "M = float(1989100000000000000000000000000)\n",
        "pi = float(mt.pi)\n",
        "l1 = 8.7830*(10**(10))\n",
        "v1 = 5.4529*(10**(4))\n",
        "\n",
        "\n",
        "s = 4*(v1**2 - ((2*G*M)/(l1)))\n",
        "r = ((2*G*M)/(l1*v1))**2\n",
        "q = (s+r)**(1/2)\n",
        "p = (2*G*M)/(l1*v1)\n",
        "\n",
        "v2 = (1/2)*(p - q)\n",
        "\n",
        "l2 = (l1*v1)/v2\n",
        "\n",
        "a = (l1 + l2)/2\n",
        "\n",
        "b = (l1*l2)**(1/2)\n",
        "\n",
        "T = (2*pi*a*b)/(l1*v1)\n",
        "T0 = T/31557600\n",
        "\n",
        "e = (l2 - l1)/(l1 + l2)\n",
        "\n",
        "\n",
        "print(\"La distancia en su punto mas distante (afelio) es de \" , l2 , \"metros.\")\n",
        "print(\"La velocidad en su punto mas distante (afelio) es de \" , v2 , \"metros.\" )\n",
        "print(\"El periodo orbital es de\" , T , \"segundos o bien \" , T0 , \"años.\")\n",
        "print(\"La exentricidad orbital es de \" , e )"
      ],
      "metadata": {
        "colab": {
          "base_uri": "https://localhost:8080/"
        },
        "id": "XFN3Z-9BhgD0",
        "outputId": "2eab1a5f-b714-42cd-d613-e9553c244842"
      },
      "execution_count": 3,
      "outputs": [
        {
          "output_type": "stream",
          "name": "stdout",
          "text": [
            "La distancia en su punto mas distante (afelio) es de  5282214660876.441 metros.\n",
            "La velocidad en su punto mas distante (afelio) es de  906.6806969191493 metros.\n",
            "El periodo orbital es de 2399312511.8451877 segundos o bien  76.02962556864868 años.\n",
            "La exentricidad orbital es de  0.9672889126454061\n"
          ]
        }
      ]
    }
  ]
}