{
 "cells": [
  {
   "cell_type": "markdown",
   "metadata": {},
   "source": [
    "<h1 align=\"center\">Física Computacional.</h1>\n",
    "<h1 align=\"center\">Semestre 2024-1</h1>\n",
    "\n",
    "<h2>Sergio A. Alcalá Corona </h2> \n",
    "\n",
    "---\n",
    "### Rodrigo Vega Vilchis\n",
    "### Joel Gómez Uribe\n",
    "---"
   ]
  },
  {
   "cell_type": "markdown",
   "metadata": {},
   "source": [
    "<h1 align=\"center\">Programación para la física computacional</h1> \n",
    "\n",
    "# 1.1. Fundamentos de programación\n",
    "\n",
    "---\n",
    "\n",
    "## 1.1.2 Listas, arreglos, matrices y estructuras de control.\n",
    "\n",
    "En este *Notebook* presentaremos de manera muy breve el uso general de las estrcuturas de control en *Python*, así también, cómo definir y usar funciones dentro de *Python*.\n",
    "\n",
    "Asimismo, mostraremos muy brevemente, cómo leer y escribir archivos (de texto o de datos) y finalmente expondremos cómo crear _**scripts** de Python_.\n",
    "\n",
    "---"
   ]
  },
  {
   "cell_type": "markdown",
   "metadata": {},
   "source": [
    "### Estructuras de control\n",
    "\n",
    "En *Python* existen las estructuras de control comunes usadas en los lenguajes programación, que son las condicionales (`if`) y las iteretivas (`for` y `while`).\n",
    "\n",
    "Estás se usan junto con, los operadores lógicos y de comparación ya mencionados y que tienen un formato en común en casi todos los lenguajes de programación.\n",
    "\n",
    "#### Operadores de comparación:\n",
    "\n",
    "- *Igual que*:  `==`\n",
    "- *Diferente que*:  `!=`\n",
    "- *Menor que*:  `<`\n",
    "- *Mayor que*:  `>`\n",
    "- *Menor o igual que*:  `<=`\n",
    "- *Mayor o igual que*:  `>=`\n",
    "\n",
    "#### Operadores de lógicos:\n",
    "\n",
    "- *AND*:  `and`\n",
    "- *OR*:  `or`\n",
    "- *NOT*:  `!`"
   ]
  },
  {
   "cell_type": "markdown",
   "metadata": {},
   "source": [
    "A diferencia de otros lenguajes de programación en *Python*, no existen instrucciones que indiquen donde empieza y termina un bloque del programa.\n",
    "\n",
    "Un bloque empieza por **`:`**, y su extensión se indica por el uso de una cantidad definida de espacio en blanco al principio de cada línea. \n",
    "\n",
    "Es muy importante dejar **una identación (un tabulador)** después de que se inicia un bloque de instrucciones definido por `:`.\n",
    "\n",
    "Algunos editores de texto (como Kate) o IDEs permiten hacer eso de forma automática."
   ]
  },
  {
   "cell_type": "markdown",
   "metadata": {},
   "source": [
    "### Estructuras Condicionales\n",
    "\n",
    "Para checar una condición y ejecutar código dependiente del resultado, se ocupa  **`if`**:"
   ]
  },
  {
   "cell_type": "code",
   "execution_count": 1,
   "metadata": {},
   "outputs": [
    {
     "name": "stdout",
     "output_type": "stream",
     "text": [
      "Ingresa el valor de a 8\n",
      "a es positiva\n"
     ]
    }
   ],
   "source": [
    "a = int(input('Ingresa el valor de a '))\n",
    "\n",
    "if (a > 0):\n",
    "        print(\"a es positiva\")\n",
    "        a = a + 1\n",
    "elif a == 0:  # Notese: dos veces =\n",
    "        print(\"a es 0\")\n",
    "else:\n",
    "        print(\"a es negativa\")"
   ]
  },
  {
   "cell_type": "markdown",
   "metadata": {},
   "source": [
    "En el primer caso, hay dos comandos en el bloque que se ejecutará en el caso de que `a > 0`. Nótese que `elif` es una abreviación de `else:if`"
   ]
  },
  {
   "cell_type": "markdown",
   "metadata": {},
   "source": [
    "Las condiciones que se pueden ocupar incluyen: `<`, `<=` y `!=` (*no es igual*). \n",
    "Para combinar condiciones se ocupan las palabras `and` y `or`:"
   ]
  },
  {
   "cell_type": "code",
   "execution_count": null,
   "metadata": {},
   "outputs": [],
   "source": [
    "a = 3; b=7\n",
    "\n",
    "if a > 1 and b > 2:\n",
    "    print(\"Grandes\")\n",
    "\n",
    "if a > 0 or b > 0:\n",
    "    print(\"Al menos uno positivo\")"
   ]
  },
  {
   "cell_type": "markdown",
   "metadata": {},
   "source": [
    "Aca otro ejemplo"
   ]
  },
  {
   "cell_type": "code",
   "execution_count": null,
   "metadata": {},
   "outputs": [],
   "source": [
    "x = int(input(\"Introduce un número entero no mayor que diez: \"))\n",
    "\n",
    "if x > 10:\n",
    "    print(\"Ingresaste un número mayor a diez.\")\n",
    "    print(\"Déjame arreglar eso por ti.\")\n",
    "    x = 10\n",
    "    print(\"tu número es\",x)"
   ]
  },
  {
   "cell_type": "markdown",
   "metadata": {},
   "source": [
    "Donde podemos usar `and` y `or`:"
   ]
  },
  {
   "cell_type": "code",
   "execution_count": null,
   "metadata": {},
   "outputs": [],
   "source": [
    "x = int(input(\"Introduce un número entero entre 1 y diez: \"))\n",
    "    \n",
    "if x > 10 or x < 1:\n",
    "    print(\"Tu número es demasiado grande o demasiado pequeño.\")\n"
   ]
  },
  {
   "cell_type": "code",
   "execution_count": null,
   "metadata": {},
   "outputs": [],
   "source": [
    "x = int(input(\"Introduce un número entero menor o igual a 1 y menor o igual a diez: \"))\n",
    "    \n",
    "if x <= 10 and x >=1:\n",
    "    print (\"Tu número es correcto.\")\n",
    "else:\n",
    "    print (\"Tu número es incorrecto.\")"
   ]
  },
  {
   "cell_type": "code",
   "execution_count": null,
   "metadata": {},
   "outputs": [],
   "source": [
    "x = int(input(\"Introduce un número entero no mayor que diez: \"))\n",
    "if x > 10:\n",
    "    print(\"Tu numero es mayor que diez.\")\n",
    "elif x > 9:\n",
    "    print(\"Tu número está bien, pero por poco no!\")\n",
    "else:\n",
    "    print (\"Tu número está bien. Continua.\")"
   ]
  },
  {
   "cell_type": "markdown",
   "metadata": {},
   "source": [
    "**Ejemplo: Número pares e impares**\n",
    "\n",
    "Escribamos un programa que tome como entrada un número entero e imprima si el número es par o impar."
   ]
  },
  {
   "cell_type": "code",
   "execution_count": null,
   "metadata": {},
   "outputs": [],
   "source": [
    "n = int(input(\"Ingresa un entero: \"))\n",
    "if n%2==0:\n",
    "    print(\"par\")\n",
    "else:\n",
    "    print(\"impar\")"
   ]
  },
  {
   "cell_type": "markdown",
   "metadata": {},
   "source": [
    "### Estructuras Iterativas\n",
    "\n",
    "La parte central de muchos cálculos científicos consiste en llevar a cabo **ciclos (bucles)**. Para esto usamos las estructura de control **`while`** y **`for`**.\n",
    "\n",
    "La instrucción `while` ejecuta un bloque de código mientras una cierta condición se satisfaga. Asimismo, la instrucción `for` se usa generalmente cuando se conoce de antemano el número de iteraciones necesarias."
   ]
  },
  {
   "cell_type": "markdown",
   "metadata": {},
   "source": [
    "#### La estructura `while`\n",
    "\n",
    "\n",
    "Como instrucción de bucle, la más simple es **`while`**, que como ya mencionamos, ejecuta un bloque de código mientras una cierta condición se satisfaga, y suele ocuparse para llevar a cabo una iteración en la cual no se conoce de antemano el número de iteraciones necesarias. Sin embargo hay que tener cuidado al usar esta estructura pues si no definimos bien la condición de termino puede que el ciclo se repita indefinidamente y nunca acabe. \n",
    "\n",
    "Un ejemplo muy sencillo de un while, donde sí se conoce la condición terminal, para contar hasta 9, se puede hacer como sigue:"
   ]
  },
  {
   "cell_type": "code",
   "execution_count": 2,
   "metadata": {},
   "outputs": [
    {
     "name": "stdout",
     "output_type": "stream",
     "text": [
      "1\n",
      "2\n",
      "3\n",
      "4\n",
      "5\n"
     ]
    }
   ],
   "source": [
    "i = 0\n",
    "while i < 5:\n",
    "    i += 1     # equivalente a i = i + 1\n",
    "    print(i)"
   ]
  },
  {
   "cell_type": "markdown",
   "metadata": {},
   "source": [
    "O bien, podemos usarlo de la siguiente manera:"
   ]
  },
  {
   "cell_type": "code",
   "execution_count": null,
   "metadata": {},
   "outputs": [],
   "source": [
    "x = int(input(\"Ingresa un número entero no mayor a diez: \"))\n",
    "\n",
    "while x > 10:\n",
    "    \n",
    "    print(\"Este numero es mayor a diez. Vuelve a intentarlo.\")\n",
    "    x = int(input(\"Ingresa un número entero no mayor a diez: \"))\n",
    "\n",
    "print(\"Tu número es\",x)"
   ]
  },
  {
   "cell_type": "markdown",
   "metadata": {},
   "source": [
    "Ahora compiquemos un poco el programa y de los números par e impar y pidamos uno y uno:"
   ]
  },
  {
   "cell_type": "code",
   "execution_count": null,
   "metadata": {},
   "outputs": [],
   "source": [
    "print(\"Ingresa dos enteros, uno par y el otro impar.\")\n",
    "m = int(input(\"Ingresa el primer entero: \"))\n",
    "n = int(input(\"Ingresa el segundo entero: \"))\n",
    "while (m+n)%2==0:\n",
    "    print(\"Uno debe ser par y el otro impar.\")\n",
    "    m = int(input(\"Ingresa el primer entero: \"))\n",
    "    n = int(input(\"Ingresa el segundo entero: \"))\n",
    "print(\"Correto! Los números que elegiste son:\",m,\"y\",n)"
   ]
  },
  {
   "cell_type": "markdown",
   "metadata": {},
   "source": [
    "**Ejemplo: Sucesión de Fibonacci**\n",
    "\n",
    "Los números de (la sucesión) de Fibonacci se definen de la siguiente manera:\n",
    "\n",
    "### $f_n = f_{n-1} + f_{n-2}$\n",
    "\n",
    "con las condiciones iniciales\n",
    "\n",
    "#### $f_0=0$  y $f_1=1$\n",
    "\n",
    "Escribamos un programa para generar los números de Fibonacci, menores a 1000:"
   ]
  },
  {
   "cell_type": "code",
   "execution_count": 6,
   "metadata": {},
   "outputs": [
    {
     "name": "stdout",
     "output_type": "stream",
     "text": [
      "Gen.: 1 1\n",
      "Gen.: 2 2\n",
      "Gen.: 3 3\n",
      "Gen.: 4 5\n",
      "Gen.: 5 8\n",
      "Gen.: 6 13\n",
      "Gen.: 7 21\n",
      "Gen.: 8 34\n",
      "Gen.: 9 55\n",
      "Gen.: 10 89\n",
      "Gen.: 11 144\n",
      "Gen.: 12 233\n",
      "Gen.: 13 377\n",
      "Gen.: 14 610\n",
      "Gen.: 15 987\n"
     ]
    }
   ],
   "source": [
    "f1,f2 = 1,1\n",
    "i = 1 # Contador para contar el número de generaciones que habrá\n",
    "while f2 < 1000:    \n",
    "    print(\"Gen.:\", i, f2)\n",
    "    f1,f2 = f2,f1+f2\n",
    "    i += 1"
   ]
  },
  {
   "cell_type": "markdown",
   "metadata": {},
   "source": [
    "Otra forma de programar la serie de Fibonacci es a través de la fórmula de arriba: "
   ]
  },
  {
   "cell_type": "markdown",
   "metadata": {},
   "source": [
    "<!-- ![fibrabbits.png](attachment:fibrabbits.png) -->\n",
    "<div>\n",
    "    <img src=\"fibrabbits.png\", width=\"800\" height=\"600\">\n",
    "</div>\n"
   ]
  },
  {
   "cell_type": "code",
   "execution_count": 9,
   "metadata": {},
   "outputs": [
    {
     "name": "stdout",
     "output_type": "stream",
     "text": [
      "Gen: 1 1\n",
      "Gen: 2 2\n",
      "Gen: 3 3\n",
      "Gen: 4 5\n",
      "Gen: 5 8\n",
      "Gen: 6 13\n",
      "Gen: 7 21\n",
      "Gen: 8 34\n",
      "Gen: 9 55\n",
      "Gen: 10 89\n",
      "Gen: 11 144\n",
      "Gen: 12 233\n",
      "Gen: 13 377\n",
      "Gen: 14 610\n",
      "Gen: 15 987\n"
     ]
    }
   ],
   "source": [
    "f_1, f_2 = 1, 1\n",
    "t = 0\n",
    "i = 1\n",
    "while f_2 < 1000:\n",
    "    print(\"Gen:\", i, f_2)\n",
    "    t = f_1\n",
    "    f_1 = f_2\n",
    "    f_2 = t + f_2 # Variable temporal t\n",
    "    \n",
    "    i += 1 "
   ]
  },
  {
   "cell_type": "code",
   "execution_count": 10,
   "metadata": {},
   "outputs": [
    {
     "name": "stdout",
     "output_type": "stream",
     "text": [
      "0\n",
      "1\n",
      "1\n",
      "2\n",
      "3\n",
      "5\n",
      "8\n",
      "13\n",
      "21\n",
      "34\n",
      "55\n",
      "89\n",
      "144\n",
      "233\n",
      "377\n",
      "610\n",
      "987\n"
     ]
    }
   ],
   "source": [
    "k,l = 1,0\n",
    "\n",
    "while l < 1000:\n",
    "    print(l)\n",
    "    l = l + k\n",
    "    k = l - k # Le quita lo que le había sumado"
   ]
  },
  {
   "cell_type": "markdown",
   "metadata": {},
   "source": [
    "Una instrucción muy útil, cuando estamos usando un `while` es **`break`**, que nos permiten salir del ciclo incluso si no se cumple la condición. Por ejemplo:"
   ]
  },
  {
   "cell_type": "code",
   "execution_count": null,
   "metadata": {},
   "outputs": [],
   "source": [
    "x = int(input(\"Ingresa un número entero no mayor a diez: \"))\n",
    "\n",
    "while x>10:\n",
    "\n",
    "    print(\"Esto es mayor a diez, por favor intentalo de nuevo.\")\n",
    "    x = x+1\n",
    "    \n",
    "    if x==111:\n",
    "        break\n",
    "\n",
    "    print(x)\n"
   ]
  },
  {
   "cell_type": "markdown",
   "metadata": {},
   "source": [
    "Una instrucción parecida a `break`  es la instrucción **`continue`**. Al colocar esta instrucción dentro `while` (con una condición de un `if`), hará que el programa salte el resto del código del ciclo, regresando al principio del bucle, donde se vuelve a comprobar la condición en el `while`.\n",
    "\n",
    "**OJO:** Se recomienda un uso bien pensando de esta istrucción, pues podría provocar que nuestro programa se estanque en un *\"bucle infinito\"*\n",
    "\n",
    "\n",
    "\n"
   ]
  },
  {
   "cell_type": "code",
   "execution_count": null,
   "metadata": {},
   "outputs": [],
   "source": [
    "x = int(input(\"Ingresa un número entero no mayor a diez: \"))\n",
    "\n",
    "while x>10:\n",
    "    \n",
    "    print(\"Esto es mayor a diez, por favor intentalo de nuevo.\")\n",
    "    x = x+1\n",
    "    \n",
    "    if (x % 2) == 0:\n",
    "        continue\n",
    "    elif x==111:\n",
    "            break\n",
    "    print(x)\n"
   ]
  },
  {
   "cell_type": "markdown",
   "metadata": {},
   "source": [
    "<!-- \n",
    "break | continue\n",
    "- | - \n",
    "![break](break.png) | ![continue](continue.png)\n",
    " -->"
   ]
  },
  {
   "cell_type": "markdown",
   "metadata": {},
   "source": [
    "### Diferencia entre el uso de `break`  y `continue`\n",
    "$\\;$\n",
    "\n",
    "<div align=\"center\">\n",
    "    <table>      \n",
    "        <tr>\n",
    "            <td> <img src=\"break.png\" alt=\"break\" style=\"width: 450px;\"/> </td>\n",
    "            <td> <img src=\"continue.png\" alt=\"continue\" style=\"width: 450px;\"/> </td>\n",
    "        </tr>\n",
    "        <tr>\n",
    "            <td><div align=\"center\"><h2>break</h2></div></td>\n",
    "            <td><div align=\"center\"><h2>continue</h2></div></td>\n",
    "        </tr>          \n",
    "    </table>\n",
    "</div>\n",
    "\n"
   ]
  },
  {
   "cell_type": "markdown",
   "metadata": {},
   "source": [
    "### Ejercicio: Números de Catalan\n",
    "\n",
    "Los números de Catalan $C_n$ son una secuencia de números enteros 1, 1, 2, 5, 14, 42, 132 que juegan un papel importante en la mecánica cuántica y la teoría de los sistemas desordenados. (Eran fundamentales para la prueba de Eugene Wigner de la llamada ley del semicírculo). Se definen de la siguiente manera:\n",
    "\n",
    "<h3 align=\"center\">$C_0 = 1,\\qquad C_{n+1} = {4n+2\\over n+2}\\,C_n$.</h3> \n",
    "\n",
    "Escribe un programa que imprima en orden creciente todos los números catalanes menores o iguales a mil millones.\n"
   ]
  },
  {
   "cell_type": "code",
   "execution_count": 13,
   "metadata": {},
   "outputs": [
    {
     "name": "stdout",
     "output_type": "stream",
     "text": [
      "2.0\n",
      "5.0\n",
      "14.0\n",
      "42.0\n",
      "132.0\n",
      "429.0\n",
      "1430.0\n",
      "4862.0\n",
      "16796.0\n",
      "58786.0\n",
      "208012.0\n",
      "742900.0\n",
      "2674440.0\n",
      "9694845.0\n",
      "35357670.0\n",
      "129644790.0\n"
     ]
    }
   ],
   "source": [
    "n = 0\n",
    "Cn = 1\n",
    "\n",
    "while Cn < 10**8: #1e8 = 10**8\n",
    "    n += 1\n",
    "    Cn1 = (((4*n) + 2)/(n+2))*Cn\n",
    "    print(Cn1)\n",
    "    Cn = Cn1"
   ]
  },
  {
   "cell_type": "markdown",
   "metadata": {},
   "source": [
    "#### La estructura `for`\n",
    "\n",
    "Un ciclo tipo `for` se suele ocupar para llevar a cabo un número de iteraciones que se conoce de antemano. En el bucle de tipo `for`, encontramos una diferencia importante con respecto a lenguajes más tradicionales:\n",
    "\n",
    "Se puede iterar sobre cualquier lista y ejecutar un bloque de código para cada elemento de la lista:"
   ]
  },
  {
   "cell_type": "code",
   "execution_count": null,
   "metadata": {},
   "outputs": [],
   "source": [
    "r = [ 1, 3, 5]\n",
    "\n",
    "for n in r:\n",
    "    print(n)\n",
    "    print(2*n)\n",
    "print(\"Termine!\")"
   ]
  },
  {
   "cell_type": "code",
   "execution_count": null,
   "metadata": {},
   "outputs": [],
   "source": [
    "l = [1, 2.5, -3.71, \"hola\", [2, 3]]\n",
    "\n",
    "for i in l:\n",
    "    print(2*l)"
   ]
  },
  {
   "cell_type": "markdown",
   "metadata": {},
   "source": [
    "Si queremos iterar sobre muchos elementos, es más útil construir la lista con `range`."
   ]
  },
  {
   "cell_type": "code",
   "execution_count": null,
   "metadata": {},
   "outputs": [],
   "source": [
    "r = range(5)\n",
    "print(\"Hola!\")\n",
    "\n",
    "for n in r:\n",
    "    print(\"Hola de nuevo!\")"
   ]
  },
  {
   "cell_type": "markdown",
   "metadata": {},
   "source": [
    " Por ejemplo, para hacer una iteración para todos los números pares hasta 100, podemos utilizar:"
   ]
  },
  {
   "cell_type": "code",
   "execution_count": null,
   "metadata": {},
   "outputs": [],
   "source": [
    "for i in range(100):\n",
    "    print(2*i)"
   ]
  },
  {
   "cell_type": "markdown",
   "metadata": {},
   "source": [
    "\n",
    "Recordemos que la función `range` crea una lista de `N` elementos comenzado en el *$0$*. O también podemos usar\n"
   ]
  },
  {
   "cell_type": "code",
   "execution_count": null,
   "metadata": {},
   "outputs": [],
   "source": [
    "for i in range(3,57,3):\n",
    "    print(2*i)"
   ]
  },
  {
   "cell_type": "markdown",
   "metadata": {},
   "source": [
    "Para poder indicar **`un inicio`**, **`un fin`** y **`un incremento`** de paso en la iteración."
   ]
  },
  {
   "cell_type": "markdown",
   "metadata": {},
   "source": [
    "Recordemos también que `range` sólo funciona con enteros. Por lo que el siguiente programa nos arrojará un error:"
   ]
  },
  {
   "cell_type": "code",
   "execution_count": null,
   "metadata": {},
   "outputs": [],
   "source": [
    "p = 10\n",
    "q =2\n",
    "for n in range(p/q):\n",
    "    print(n)"
   ]
  },
  {
   "cell_type": "markdown",
   "metadata": {},
   "source": [
    "Para poder corregir esto podemos usar la parte entera:"
   ]
  },
  {
   "cell_type": "code",
   "execution_count": null,
   "metadata": {},
   "outputs": [],
   "source": [
    "for n in range(p//q):\n",
    "    print(n)"
   ]
  },
  {
   "cell_type": "markdown",
   "metadata": {},
   "source": [
    "O bien la función `arange` de **`numpy`**."
   ]
  },
  {
   "cell_type": "code",
   "execution_count": null,
   "metadata": {},
   "outputs": [],
   "source": [
    "from numpy import arange\n",
    "\n",
    "for n in arange(p/q):\n",
    "    print(n)"
   ]
  },
  {
   "cell_type": "markdown",
   "metadata": {},
   "source": [
    "#### **Ejercicio:** \n",
    "\n",
    "Escribe un programa que realice la siguiente suma:\n",
    "\n",
    "<h4 align=\"center\">$\\displaystyle s = \\sum_{k=1}^{100} \\dfrac{1}{k}$</h4> "
   ]
  },
  {
   "cell_type": "code",
   "execution_count": 25,
   "metadata": {},
   "outputs": [
    {
     "name": "stdout",
     "output_type": "stream",
     "text": [
      "1.0\n",
      "0.5\n",
      "0.3333333333333333\n",
      "0.25\n",
      "0.2\n",
      "0.16666666666666666\n",
      "0.14285714285714285\n",
      "0.125\n",
      "0.1111111111111111\n",
      "0.1\n",
      "0.09090909090909091\n",
      "0.08333333333333333\n",
      "0.07692307692307693\n",
      "0.07142857142857142\n",
      "0.06666666666666667\n",
      "0.0625\n",
      "0.058823529411764705\n",
      "0.05555555555555555\n",
      "0.05263157894736842\n",
      "0.05\n",
      "0.047619047619047616\n",
      "0.045454545454545456\n",
      "0.043478260869565216\n",
      "0.041666666666666664\n",
      "0.04\n",
      "0.038461538461538464\n",
      "0.037037037037037035\n",
      "0.03571428571428571\n",
      "0.034482758620689655\n",
      "0.03333333333333333\n",
      "0.03225806451612903\n",
      "0.03125\n",
      "0.030303030303030304\n",
      "0.029411764705882353\n",
      "0.02857142857142857\n",
      "0.027777777777777776\n",
      "0.02702702702702703\n",
      "0.02631578947368421\n",
      "0.02564102564102564\n",
      "0.025\n",
      "0.024390243902439025\n",
      "0.023809523809523808\n",
      "0.023255813953488372\n",
      "0.022727272727272728\n",
      "0.022222222222222223\n",
      "0.021739130434782608\n",
      "0.02127659574468085\n",
      "0.020833333333333332\n",
      "0.02040816326530612\n",
      "0.02\n",
      "0.0196078431372549\n",
      "0.019230769230769232\n",
      "0.018867924528301886\n",
      "0.018518518518518517\n",
      "0.01818181818181818\n",
      "0.017857142857142856\n",
      "0.017543859649122806\n",
      "0.017241379310344827\n",
      "0.01694915254237288\n",
      "0.016666666666666666\n",
      "0.01639344262295082\n",
      "0.016129032258064516\n",
      "0.015873015873015872\n",
      "0.015625\n",
      "0.015384615384615385\n",
      "0.015151515151515152\n",
      "0.014925373134328358\n",
      "0.014705882352941176\n",
      "0.014492753623188406\n",
      "0.014285714285714285\n",
      "0.014084507042253521\n",
      "0.013888888888888888\n",
      "0.0136986301369863\n",
      "0.013513513513513514\n",
      "0.013333333333333334\n",
      "0.013157894736842105\n",
      "0.012987012987012988\n",
      "0.01282051282051282\n",
      "0.012658227848101266\n",
      "0.0125\n",
      "0.012345679012345678\n",
      "0.012195121951219513\n",
      "0.012048192771084338\n",
      "0.011904761904761904\n",
      "0.011764705882352941\n",
      "0.011627906976744186\n",
      "0.011494252873563218\n",
      "0.011363636363636364\n",
      "0.011235955056179775\n",
      "0.011111111111111112\n",
      "0.01098901098901099\n",
      "0.010869565217391304\n",
      "0.010752688172043012\n",
      "0.010638297872340425\n",
      "0.010526315789473684\n",
      "0.010416666666666666\n",
      "0.010309278350515464\n",
      "0.01020408163265306\n",
      "0.010101010101010102\n",
      "0.01\n",
      "0.009900990099009901\n"
     ]
    }
   ],
   "source": [
    "i = 0\n",
    "for i in range(1,101): #La suma va hasta 100\n",
    "    i = i + (1/\n",
    "    \n"
   ]
  },
  {
   "cell_type": "code",
   "execution_count": null,
   "metadata": {},
   "outputs": [],
   "source": []
  },
  {
   "cell_type": "markdown",
   "metadata": {},
   "source": [
    "#### **Ejercicio:** \n",
    "\n",
    "Ahora escribe un programa que realice la suma de los cuadrados de los valores tomados de un archivo de texto:\n",
    "\n",
    "<h4 align=\"center\">$\\displaystyle s = \\sum x^2 \\; \\; \\; \\forall x \\in V_{txt}$</h4> "
   ]
  },
  {
   "cell_type": "code",
   "execution_count": null,
   "metadata": {},
   "outputs": [],
   "source": []
  },
  {
   "cell_type": "code",
   "execution_count": null,
   "metadata": {},
   "outputs": [],
   "source": []
  },
  {
   "cell_type": "code",
   "execution_count": null,
   "metadata": {},
   "outputs": [],
   "source": []
  },
  {
   "cell_type": "markdown",
   "metadata": {},
   "source": [
    "### **Ejemplo:** Lineas de emisión de Hidrogeno \n",
    "\n",
    "En 1888 Johannes Rydberg publicó su famosa fórmula para las longitudes de onda $\\lambda$ de las líneas de emisión del átomo de hidrógeno:\n",
    "\n",
    "<h3 align=\"center\">$\\displaystyle \\dfrac{1}{\\lambda} = R \\left(\\dfrac{1}{m^2} - \\dfrac{1}{n^2} \\right)$</h3> \n",
    "\n",
    "donde $R$ es la constante de Rydberg $R = 1.097 × 10^{-2}$ nm$^{-1}$ y $m$ y $n$ son números enteros positivos. Para un valor dado de $m$, las longitudes de onda $\\lambda$ dadas por esta fórmula para todo $n > m$ forman una serie, las tres primeras de tales series, para $m = 1$, $2$ y $3$, se conocen como series de *Lyman*, *Balmer* y *Paschen* en honor a sus respectivos descubridores.\n",
    "\n",
    "Para resumir varias de las cosas vistas, a continuación escribiremos un breve programa de ejemplo, que imprime las longitudes de onda de las primeras cinco líneas en cada una de estas tres series:\n"
   ]
  },
  {
   "cell_type": "code",
   "execution_count": null,
   "metadata": {},
   "outputs": [],
   "source": [
    "R = 1.097e-2\n",
    "\n",
    "for m in range(1,4):    \n",
    "    print(\"\\n Serie para m =\",m)    \n",
    "    for n in range(m+1,m+6):\n",
    "        invlambda = R*(1/m**2-1/n**2)\n",
    "        print(\"  \",1/invlambda,\"nm\")\n"
   ]
  },
  {
   "cell_type": "markdown",
   "metadata": {},
   "source": [
    "## 1.1.3  Funciones y bibliotecas para cómputo científico"
   ]
  },
  {
   "cell_type": "markdown",
   "metadata": {},
   "source": [
    "### Funciones\n",
    "\n",
    "Las funciones se pueden considerar como subprogramas que ejecutan una tarea dada, pueden contener variables propias (locales) así como estructuras de control y cálculos en su interior. En *Python*, las funciones pueden o no aceptar argumentos, y pueden o no regresar resultados.\n",
    "\n",
    "La sintaxis para declarar una función es como sigue:"
   ]
  },
  {
   "cell_type": "code",
   "execution_count": null,
   "metadata": {},
   "outputs": [],
   "source": [
    "def f(x):\n",
    "    print \"Argumento x = \", x\n",
    "    return x*x"
   ]
  },
  {
   "cell_type": "markdown",
   "metadata": {},
   "source": [
    "y se llama así:"
   ]
  },
  {
   "cell_type": "code",
   "execution_count": null,
   "metadata": {},
   "outputs": [],
   "source": [
    "f(3)\n",
    "f(3.5)"
   ]
  },
  {
   "cell_type": "markdown",
   "metadata": {},
   "source": [
    "Las funciones se pueden utilizar con argumentos de cualquier tipo (el tipo de los argumentos nunca se especifica). Si las operaciones llevadas a cabo no se permiten para el tipo que se provee, entonces *Python* regresa un error:"
   ]
  },
  {
   "cell_type": "code",
   "execution_count": null,
   "metadata": {},
   "outputs": [],
   "source": [
    "f(\"hola\")"
   ]
  },
  {
   "cell_type": "markdown",
   "metadata": {},
   "source": [
    "Las funciones pueden regresar varios resultados al juntarlos en un *tuple* (n-ada):"
   ]
  },
  {
   "cell_type": "code",
   "execution_count": null,
   "metadata": {},
   "outputs": [],
   "source": [
    "def f(x, y):\n",
    "    return 2*x, 3*y"
   ]
  },
  {
   "cell_type": "code",
   "execution_count": null,
   "metadata": {},
   "outputs": [],
   "source": [
    "f(3,4)"
   ]
  },
  {
   "cell_type": "markdown",
   "metadata": {},
   "source": [
    "#### **Ejercicio:** \n",
    "\n",
    "Escribe una función que tome como argumento un número entero y que regrese el factorial del mismo.\n",
    "\n",
    "<h4 align=\"center\">$\\displaystyle n! = \\prod_{i=1}^n i$</h4> \n",
    "\n",
    "Y pruebala para diferentes valores."
   ]
  },
  {
   "cell_type": "code",
   "execution_count": null,
   "metadata": {},
   "outputs": [],
   "source": []
  },
  {
   "cell_type": "code",
   "execution_count": null,
   "metadata": {},
   "outputs": [],
   "source": []
  },
  {
   "cell_type": "code",
   "execution_count": null,
   "metadata": {},
   "outputs": [],
   "source": []
  },
  {
   "cell_type": "markdown",
   "metadata": {},
   "source": [
    "Se puede proporcionar una forma sencilla de documentación de una función al proporcionar un *docstring* (cadena de documentación):"
   ]
  },
  {
   "cell_type": "code",
   "execution_count": null,
   "metadata": {},
   "outputs": [],
   "source": [
    "def cuad(x):\n",
    "    \"\"\"Funcion para elevar un numero al cuadrado.\n",
    "    Funciona siempre y cuando el tipo de x permita la multiplicacion.\n",
    "    \"\"\"\n",
    "    return x*x"
   ]
  },
  {
   "cell_type": "markdown",
   "metadata": {},
   "source": [
    "Ahora si interrogamos al objeto `cuad` (con ipython o Jupyter):"
   ]
  },
  {
   "cell_type": "code",
   "execution_count": null,
   "metadata": {},
   "outputs": [],
   "source": [
    "cuad?"
   ]
  },
  {
   "cell_type": "markdown",
   "metadata": {},
   "source": [
    "nos da esta información. Si la función está definida en un archivo, entonces `cuad??` muestra el código de la definición de la función."
   ]
  },
  {
   "cell_type": "code",
   "execution_count": null,
   "metadata": {},
   "outputs": [],
   "source": [
    "cuad??"
   ]
  },
  {
   "cell_type": "markdown",
   "metadata": {},
   "source": [
    "#### **Ejercicio:** \n",
    "\n",
    "Supongamos, que tenemos un punto $p$ especificado en coordenadas cilíndricas $r$, $\\theta$, $z$. Escribe una función que tome como argumentos los valores de las cordenadas del punto ($r$,$\\theta$,$z$) para que regrese la distancia $d$ del origena a $p$ y pruebala para diferentes valores. \n",
    "\n",
    "*Hint:* La forma más sencilla es usar el teorema de Pitagoras."
   ]
  },
  {
   "cell_type": "code",
   "execution_count": null,
   "metadata": {},
   "outputs": [],
   "source": []
  },
  {
   "cell_type": "code",
   "execution_count": null,
   "metadata": {},
   "outputs": [],
   "source": []
  },
  {
   "cell_type": "code",
   "execution_count": null,
   "metadata": {},
   "outputs": [],
   "source": []
  },
  {
   "cell_type": "markdown",
   "metadata": {},
   "source": [
    "#### **Ejercicio:** \n",
    "\n",
    "Supongamos que tenemos un número entero $n$ y queremos saber sus **_factores primos_**. Los factores primos se pueden calcular con relativa facilidad dividiendo repetidamente por todos los números enteros desde 2 hasta $n$ y verificando si el resto es cero. \n",
    "\n",
    "Escribe una función que tome como argumento un número $n$ y devuelva una lista de sus factores primos."
   ]
  },
  {
   "cell_type": "code",
   "execution_count": null,
   "metadata": {},
   "outputs": [],
   "source": []
  },
  {
   "cell_type": "code",
   "execution_count": null,
   "metadata": {},
   "outputs": [],
   "source": []
  },
  {
   "cell_type": "code",
   "execution_count": null,
   "metadata": {},
   "outputs": [],
   "source": []
  },
  {
   "cell_type": "markdown",
   "metadata": {},
   "source": [
    "### BIBLIOTECAS.\n",
    "\n",
    "Se puede escribir un script que solo tenga definiciones de funciones, a la cual puede considerarse una biblioteca propia, y también se puede importarse:\n",
    "\n",
    "`from mi_biblioteca import *`\n",
    "\n",
    "Así podemos llamar a esta biblioteca dentro de otro script y usar sus funciones dentro de este.\n",
    "\n",
    "O bien se puede importar desde el *interprete de comandos python* (o el entrono **ipython** o **Jupyter**) con lo que podemos llamar esas funciones o ver sus características coma ya mencionamos."
   ]
  },
  {
   "cell_type": "markdown",
   "metadata": {},
   "source": [
    "Es posible importar las funciones de una biblioteca, ya sea una por una conforme las vayamos necesitando:"
   ]
  },
  {
   "cell_type": "code",
   "execution_count": null,
   "metadata": {},
   "outputs": [],
   "source": [
    "from math import log\n",
    "from math import exp"
   ]
  },
  {
   "cell_type": "markdown",
   "metadata": {},
   "source": [
    "varias a la vez:"
   ]
  },
  {
   "cell_type": "code",
   "execution_count": null,
   "metadata": {},
   "outputs": [],
   "source": [
    "from math import log,exp\n",
    "from math import log,exp,sin,cos,sqrt,pi,e"
   ]
  },
  {
   "cell_type": "markdown",
   "metadata": {},
   "source": [
    "O bien, todas de una sola vez:"
   ]
  },
  {
   "cell_type": "code",
   "execution_count": null,
   "metadata": {},
   "outputs": [],
   "source": [
    "from math import *"
   ]
  },
  {
   "cell_type": "markdown",
   "metadata": {},
   "source": [
    "o de manera alternativa"
   ]
  },
  {
   "cell_type": "code",
   "execution_count": null,
   "metadata": {},
   "outputs": [],
   "source": [
    "import math "
   ]
  },
  {
   "cell_type": "markdown",
   "metadata": {},
   "source": [
    "Asimismo, podemos importar una función desde un módulo particular de una biblioteca, de la siguiente manera:"
   ]
  },
  {
   "cell_type": "code",
   "execution_count": null,
   "metadata": {},
   "outputs": [],
   "source": [
    "from numpy.linalg import inv"
   ]
  },
  {
   "cell_type": "markdown",
   "metadata": {},
   "source": [
    "Una forma muy comun de importar una biblioteca es poniendo un alias (sobrenombre), por ejemplo:"
   ]
  },
  {
   "cell_type": "code",
   "execution_count": null,
   "metadata": {},
   "outputs": [],
   "source": [
    "import math as mt"
   ]
  },
  {
   "cell_type": "markdown",
   "metadata": {},
   "source": [
    "Lo anterior nos permite importar varias bibliotecas a la vez, pero tener sus funcionalidades separadas, sin que se confundan\n"
   ]
  },
  {
   "cell_type": "code",
   "execution_count": 1,
   "metadata": {},
   "outputs": [],
   "source": [
    "import math as mt\n",
    "import numpy as np\n",
    "import matplotlib.pyplot as plt"
   ]
  },
  {
   "cell_type": "code",
   "execution_count": null,
   "metadata": {},
   "outputs": [],
   "source": [
    "np.pi"
   ]
  },
  {
   "cell_type": "code",
   "execution_count": null,
   "metadata": {},
   "outputs": [],
   "source": [
    "math.sin(np.pi/2)"
   ]
  },
  {
   "cell_type": "code",
   "execution_count": null,
   "metadata": {},
   "outputs": [],
   "source": [
    "plt.plot?"
   ]
  },
  {
   "cell_type": "markdown",
   "metadata": {},
   "source": [
    "## 1.1.4 ENTRADA y SALIDA de datos.\n",
    "\n",
    "### ENTRADA\n",
    "\n",
    "Como ya hemos visto, se puede pedir información del usuario con `input()`\n",
    "\n"
   ]
  },
  {
   "cell_type": "code",
   "execution_count": null,
   "metadata": {},
   "outputs": [],
   "source": [
    "a = float(input('Dame el valor de a: '))\n",
    "\n",
    "print(\"El cuadrado de a es \", a*a)"
   ]
  },
  {
   "cell_type": "markdown",
   "metadata": {},
   "source": [
    "Sin embargo, uno de los usos principales de Python para el cómputo científico es el de **procesar datos** generados en otro lado. Por lo tanto, es necesario saber cómo importar y exportar archivos."
   ]
  },
  {
   "cell_type": "markdown",
   "metadata": {},
   "source": [
    "#### Leer archivos\n",
    "\n",
    "Para leer un archivo, primero es necesario abrirlo para leerse. Supongamos que tenemos un archivo llamado *datos.dat*, entonces lo podemos abrir para su lectura con:"
   ]
  },
  {
   "cell_type": "code",
   "execution_count": 7,
   "metadata": {},
   "outputs": [],
   "source": [
    "entrada = open(\"datos.dat\", \"r\")    # esto es un buffer"
   ]
  },
  {
   "cell_type": "markdown",
   "metadata": {},
   "source": [
    "El segundo argumento, `\"r\"`, es para indicar que se va a leer (*“read”*) el archivo. \n",
    "\n",
    "El objeto `entrada` ahora representa el archivo."
   ]
  },
  {
   "cell_type": "markdown",
   "metadata": {},
   "source": [
    "Para leer del archivo abierto, hay varias posibilidades. \n",
    "Podemos leer todo de un golpe con `entrada.read()`, \n",
    "\n",
    "leer todo por líneas con `entrada.readlines()`, \n",
    "\n",
    "o línea por línea con `entrada.readline()`. \n",
    "\n",
    "Sin embargo, lo que se ha leído ya no se puede leer de nuevo sin cerrar el archivo con `entrada.close()` y volverlo a abrir.\n",
    "\n",
    "Por ejemplo, podemos utilizar"
   ]
  },
  {
   "cell_type": "code",
   "execution_count": 2,
   "metadata": {},
   "outputs": [],
   "source": [
    "for linea in entrada.readlines():\n",
    "    print(linea)"
   ]
  },
  {
   "cell_type": "markdown",
   "metadata": {},
   "source": [
    "Sin embargo, tal vez la opción más fácil e intuitiva es:"
   ]
  },
  {
   "cell_type": "code",
   "execution_count": 1,
   "metadata": {},
   "outputs": [],
   "source": [
    "for linea in entrada:\n",
    "    print(linea)"
   ]
  },
  {
   "cell_type": "markdown",
   "metadata": {},
   "source": [
    "Es decir, el archivo ¡se comporta como una secuencia!\n",
    "\n",
    "Ahora bien, la línea viene como una sola cadena, con espacios etc. Para extraer la información, primero necesitamos dividirlo en palabras:"
   ]
  },
  {
   "cell_type": "code",
   "execution_count": null,
   "metadata": {},
   "outputs": [],
   "source": [
    "palabras = linea.split()"
   ]
  },
  {
   "cell_type": "markdown",
   "metadata": {},
   "source": [
    "Si todos los datos en realidad son números, entonces tenemos que procesar cada palabra, convirtiéndola en un número:"
   ]
  },
  {
   "cell_type": "code",
   "execution_count": null,
   "metadata": {},
   "outputs": [],
   "source": [
    "datos = []\n",
    "for i in palabras:\n",
    "    datos.append(float(i))"
   ]
  },
  {
   "cell_type": "markdown",
   "metadata": {},
   "source": [
    "Resulta que hay una manera más fácil, de más alto nivel y más rápida de hacer esto:"
   ]
  },
  {
   "cell_type": "code",
   "execution_count": null,
   "metadata": {},
   "outputs": [],
   "source": [
    "map(float, palabras)"
   ]
  },
  {
   "cell_type": "markdown",
   "metadata": {},
   "source": [
    "Eso literalmente mapea la función float sobre la lista palabras."
   ]
  },
  {
   "cell_type": "markdown",
   "metadata": {},
   "source": [
    "Combinando todo, podemos escribir:"
   ]
  },
  {
   "cell_type": "code",
   "execution_count": 4,
   "metadata": {},
   "outputs": [],
   "source": [
    "entrada = open(\"datos.dat\", \"r\")\n",
    "\n",
    "for linea in entrada:\n",
    "    datos = map(float, linea.split())"
   ]
  },
  {
   "cell_type": "markdown",
   "metadata": {},
   "source": [
    "Y ya dentro del bucle podemos manipular los datos como queramos."
   ]
  },
  {
   "cell_type": "markdown",
   "metadata": {},
   "source": [
    "#### **Ejercicio:** \n",
    "\n",
    "Escribe un programa que lea el archivo `datos.dat` y guarde en una arreglo de `numpy` los datos de la primera columna y en otro diferente los datos de la segunda columna."
   ]
  },
  {
   "cell_type": "code",
   "execution_count": 4,
   "metadata": {},
   "outputs": [],
   "source": [
    "datos = []\n",
    "entrada = open(\"datos.dat\", \"r\")\n",
    "\n",
    "for linea in entrada:     # creamos un bufer y guardamos cada linea en la lista datos\n",
    "    datos.append(linea)"
   ]
  },
  {
   "cell_type": "code",
   "execution_count": 9,
   "metadata": {},
   "outputs": [],
   "source": [
    "A = []\n",
    "B = []\n",
    "\n",
    "for d in datos:        # para cada linea en la lista datos\n",
    "    data = d.split('\\t')     # separamos los datos por tabulador, resultando en un vector de dos estradas\n",
    "    A.append(float(data[0].strip()))     # quitamos a la primera entrada los espacios y otros caracteres y lo guardamos como flotante en la lista A\n",
    "    B.append(float(data[1].strip()))     # lo mismo para la segunda entrada y la lista B\n",
    "\n",
    "A = np.array(A)    # finalmente transformamos la listas A y B, en arreglos de numpy\n",
    "B = np.array(B)"
   ]
  },
  {
   "cell_type": "code",
   "execution_count": null,
   "metadata": {},
   "outputs": [],
   "source": []
  },
  {
   "cell_type": "markdown",
   "metadata": {},
   "source": [
    "### SALIDA\n",
    "\n",
    "Como ya hemos visto en el *interprete de comandos python*, en *ipython* o *Jupyter*, para mandar un resultado a la salida simplemente hay que definirlo y después escribirlo y presionar enter."
   ]
  },
  {
   "cell_type": "code",
   "execution_count": null,
   "metadata": {},
   "outputs": [],
   "source": [
    "a = 17.3\n",
    "a"
   ]
  },
  {
   "cell_type": "code",
   "execution_count": null,
   "metadata": {},
   "outputs": [],
   "source": [
    "b = \"hola\"\n",
    "b"
   ]
  },
  {
   "cell_type": "markdown",
   "metadata": {},
   "source": [
    "Adicionalmente se puede utilizar el comando `print()`"
   ]
  },
  {
   "cell_type": "code",
   "execution_count": null,
   "metadata": {},
   "outputs": [],
   "source": [
    "print(\"imprimiendo datos\", a, b)"
   ]
  },
  {
   "cell_type": "markdown",
   "metadata": {},
   "source": [
    "También, como ya lo vimos, si ejecutamos nuestro codigo como un *script* (de python) desde la terminal (**_bash_**), podemos mandar las salida del programa a un archivo con:\n",
    "\n",
    "`python script.py > salida.dat`"
   ]
  },
  {
   "cell_type": "markdown",
   "metadata": {},
   "source": [
    "El método de redirigir la salida es rápido y fácil. Sin embargo, no es de ninguna manera flexible, por ejemplo no podemos especificar desde nuestro programa el nombre del archivo de salida, ni escribir en dos archivos diferentes. Para hacer eso, necesitamos poder abrir un archivo para escribirse:"
   ]
  },
  {
   "cell_type": "code",
   "execution_count": null,
   "metadata": {},
   "outputs": [],
   "source": [
    "salida = open(\"resultados.dat\", \"w\")  # Esto es un buffer de salida"
   ]
  },
  {
   "cell_type": "markdown",
   "metadata": {},
   "source": [
    "La parte más complicada viene al momento de escribir en el archivo. Para hacerlo, ocupamos la función:\n",
    "\n",
    "`salida.write()`"
   ]
  },
  {
   "cell_type": "markdown",
   "metadata": {},
   "source": [
    "Sin embargo, esta función puede escribir solamente cadenas. Por lo tanto, si queremos escribir números contenidos en variables, es necesario convertirlos primero a la forma de cadena.\n",
    "\n",
    "Una manera de hacer eso es con la función str(), y concatenar (juntar) distintas cadenas con +:\n",
    "\n"
   ]
  },
  {
   "cell_type": "code",
   "execution_count": null,
   "metadata": {},
   "outputs": [],
   "source": [
    "a = 3\n",
    "s = \"El valor de a es \" + str(a)\n",
    "\n",
    "print(s)"
   ]
  },
  {
   "cell_type": "markdown",
   "metadata": {},
   "source": [
    "Sin embargo, para largas secuencias de datos eso se vuelve latoso."
   ]
  },
  {
   "cell_type": "markdown",
   "metadata": {},
   "source": [
    "La manera más elegante de hacerlo es con la sustitución de variables en cadenas . En una cadena ponemos una secuencia especial de caracteres, empezando por `%`, que indica que se sustituirá el valor de una variable:"
   ]
  },
  {
   "cell_type": "code",
   "execution_count": null,
   "metadata": {},
   "outputs": [],
   "source": [
    "a = 3\n",
    "s = \"El valor de a es %d\" % a\n",
    "\n",
    "b = 3.5; c = 10.1\n",
    "s = \"b = %g; c = %g\" % (b, c)"
   ]
  },
  {
   "cell_type": "markdown",
   "metadata": {},
   "source": [
    "El carácter después del `%` indica el tipo de variable que incluir en la cadena: \n",
    "\n",
    "- **`d`** corresponde a un _**entero**_, \n",
    "\n",
    "\n",
    "- **`g`**  o **`f`**  a un _**flotante**_ y \n",
    "\n",
    "\n",
    "- **`s`**  a _**otra cadena**_.\n",
    "\n",
    "\n",
    "Finalmente ahora podemos imprimir en el archivo, por ejemplo:"
   ]
  },
  {
   "cell_type": "code",
   "execution_count": null,
   "metadata": {},
   "outputs": [],
   "source": [
    "salida.write(\" %g\\t %g\" % (a,b) )"
   ]
  },
  {
   "cell_type": "markdown",
   "metadata": {},
   "source": [
    "Aquí, **`\\t`** representa un tabulador, y **`\\n`** una nueva línea."
   ]
  },
  {
   "cell_type": "markdown",
   "metadata": {},
   "source": [
    "#### Ejemplo"
   ]
  },
  {
   "cell_type": "code",
   "execution_count": null,
   "metadata": {},
   "outputs": [],
   "source": [
    "def fibonacci(n):\n",
    "    \n",
    "    output = []\n",
    "    \n",
    "    f1,f2 = 1,1\n",
    "\n",
    "    while f2 < n:\n",
    "        output.append(f2)        \n",
    "        f1,f2 = f2,f1+f2\n",
    "    \n",
    "    return output\n"
   ]
  },
  {
   "cell_type": "code",
   "execution_count": null,
   "metadata": {},
   "outputs": [],
   "source": [
    "fibo = fibonacci(100)\n",
    "\n",
    "outputBuff = open(\"fibonacci.dat\", \"w\")\n",
    "\n",
    "for n in fibo:\n",
    "    outputBuff.write(\"%d \\n\" % n)\n",
    "#     outputBuff.write(\"%f \\n\" % n)\n",
    "\n",
    "outputBuff.close()"
   ]
  },
  {
   "cell_type": "code",
   "execution_count": null,
   "metadata": {},
   "outputs": [],
   "source": [
    "fibo2 = fibonacci(1000)\n",
    "\n",
    "with open(\"fibonacci2.dat\", 'a') as out:\n",
    "    for n in fibo2:\n",
    "        out.write(str(n) + '\\n')"
   ]
  },
  {
   "cell_type": "code",
   "execution_count": null,
   "metadata": {},
   "outputs": [],
   "source": []
  },
  {
   "cell_type": "markdown",
   "metadata": {},
   "source": [
    "## Scripts de Python."
   ]
  },
  {
   "cell_type": "markdown",
   "metadata": {},
   "source": [
    "Una vez que las secuencias de comandos se complican, podría pasar que queramos repetir la misma secuencia varias veces o bien reusar algunas secuencias de comandos, sin embargo esto significaría reescribir todo nuevamente en el interprete de comandos, o estar editando y volviendo a correr las celdas en *Jupyter*.\n",
    "\n",
    "Entonces sería conveniente poder guardar bloques de instrucciones completos y correrlos de una sola vez.\n",
    "Esto es posible realizando un *programa*, o _**script**_. \n",
    "\n",
    "Esto consiste en un **archivo de texto**, cuyo nombre termina en **.py**, en el cual se escribe y guarda la secuencia de comandos.\n",
    "\n",
    "Por ejemplo, consideremos el siguiente código: "
   ]
  },
  {
   "cell_type": "code",
   "execution_count": null,
   "metadata": {},
   "outputs": [],
   "source": [
    "from fractions import Fraction\n",
    "\n",
    "a = Fraction(3, 5)\n",
    "b = Fraction(1)\n",
    "c = a + b\n",
    "d = Fraction(4, 6)\n",
    "d \n",
    "e = a + d\n",
    "print a,b,c,d,e"
   ]
  },
  {
   "cell_type": "markdown",
   "metadata": {},
   "source": [
    "podemos escribirlo en un editor de textos y salvarlo como un archivo cuad.py. Y así entonces podemos correr el código desde **ipython** o _**Jupyter Notebook**_, de la siguiente manera:"
   ]
  },
  {
   "cell_type": "code",
   "execution_count": null,
   "metadata": {},
   "outputs": [],
   "source": [
    "run cuad.py"
   ]
  },
  {
   "cell_type": "markdown",
   "metadata": {},
   "source": [
    "**Nota:** si no estamos en el mismo directorio donde se guardo el archivo script.py, habrá que especificar la ruta relativa o absoluta según sea el caso."
   ]
  },
  {
   "cell_type": "markdown",
   "metadata": {},
   "source": [
    "Alternativamente, podemos tratar el script como un *programa* (en Linux) en sí, y **ejecutarlo desde el shell**:\n",
    "\n",
    "**`$>`**`python cuad.py`\n",
    "\n",
    "**Nota:** Al terminar, el control regresa al shell, y perdemos la información adentro del script."
   ]
  },
  {
   "cell_type": "markdown",
   "metadata": {},
   "source": [
    "Aunque no hay una forma rígida de programar, para escribir un buen script (programa) se puede seguir la siguiente estructura:\n",
    "\n",
    "- `Comentarios generales del programa`\n",
    "\n",
    "\n",
    "- `Importar bibliotecas (librerías o módulos)`\n",
    "\n",
    "\n",
    "- `Definir funciones`\n",
    "\n",
    "\n",
    "- `Definir variables globales`\n",
    "\n",
    "\n",
    "- `Comandos de entrada por parte del usuario (si es necesario)`\n",
    "\n",
    "\n",
    "- `Estructuras de control y/o cálculos`\n",
    "\n",
    "\n",
    "- `Comandos de salida (si es necesario)`"
   ]
  },
  {
   "cell_type": "markdown",
   "metadata": {},
   "source": [
    "Finalmente, es posible exportar los _**Cuadernos de Jupyter**_, como **scripts**, desde el menu *File*.\n",
    "Intentalo ..."
   ]
  },
  {
   "cell_type": "code",
   "execution_count": null,
   "metadata": {},
   "outputs": [],
   "source": []
  }
 ],
 "metadata": {
  "@webio": {
   "lastCommId": null,
   "lastKernelId": null
  },
  "kernelspec": {
   "display_name": "Python 3 (ipykernel)",
   "language": "python",
   "name": "python3"
  },
  "language_info": {
   "codemirror_mode": {
    "name": "ipython",
    "version": 3
   },
   "file_extension": ".py",
   "mimetype": "text/x-python",
   "name": "python",
   "nbconvert_exporter": "python",
   "pygments_lexer": "ipython3",
   "version": "3.12.4"
  }
 },
 "nbformat": 4,
 "nbformat_minor": 4
}
