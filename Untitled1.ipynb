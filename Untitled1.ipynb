{
 "cells": [
  {
   "cell_type": "markdown",
   "id": "ea138d1b-c491-4f4a-b008-32ff076f8100",
   "metadata": {},
   "source": [
    "# Ejercicio 1"
   ]
  },
  {
   "cell_type": "markdown",
   "id": "8910f3bc-9e12-4539-82db-c47b397251c8",
   "metadata": {},
   "source": [
    "### Gráfica de datos experimentales"
   ]
  },
  {
   "cell_type": "markdown",
   "id": "9030b5b5-de30-48d9-b02e-2beb4a65cbb1",
   "metadata": {},
   "source": [
    "EL archivo manchassolares.txt, contiene el número observado de manchas solares en el Sol en cada mes desde enero de 1749. El archivo contiene dos columnas de números, la primera es el mes y la segunda el número de manchas solares. "
   ]
  },
  {
   "cell_type": "markdown",
   "id": "5a9508f6-a7e4-4e6c-bdb4-ab0eaf3737c1",
   "metadata": {},
   "source": [
    "a) Escribe un programa que lea los datos y haga una gráfica de las manchas solares en función del tiempo."
   ]
  },
  {
   "cell_type": "code",
   "execution_count": null,
   "id": "055c6755-5f60-4697-b329-336ff46529a2",
   "metadata": {},
   "outputs": [],
   "source": []
  },
  {
   "cell_type": "markdown",
   "id": "876a66ae-a172-4732-bf77-a3d5da7be665",
   "metadata": {},
   "source": [
    "b) Modifica tu programa para mostrar solo los primeros 1000 datos experimentales en la gráfica."
   ]
  },
  {
   "cell_type": "code",
   "execution_count": null,
   "id": "73888150-75ed-433a-80ed-7609c01a365f",
   "metadata": {},
   "outputs": [],
   "source": []
  },
  {
   "cell_type": "markdown",
   "id": "f86a7641-1fdc-4f9b-941c-70a74a2c97fc",
   "metadata": {},
   "source": [
    "c) Modifica nuevamente tu programa para calcular y graficar la media móvil de los datos, definida por: \n",
    "$$ Y_k = \\frac{1}{2r+1} \\sum_{m=-r}^{r}Y_{k+m}$$\n",
    "donde $r=5$ y $Y_k$ son los números de manchas solares. \n",
    "\n",
    "El programa debe graficar tanto los datos originales como la media móvil en el mismo gráfico, sólo sobre los primeros 1000 datos. "
   ]
  },
  {
   "cell_type": "code",
   "execution_count": null,
   "id": "3ea0bcad-a1a7-416b-b1d2-500b56fde6cf",
   "metadata": {},
   "outputs": [],
   "source": []
  },
  {
   "cell_type": "markdown",
   "id": "098f0c8e-ace2-48b3-8b86-1c68a11d3bb9",
   "metadata": {},
   "source": [
    "# Ejercicio 2"
   ]
  },
  {
   "cell_type": "markdown",
   "id": "44800703-a3f4-4bec-8829-313f3ecdb160",
   "metadata": {},
   "source": [
    "### Gráfica de curvas"
   ]
  },
  {
   "cell_type": "markdown",
   "id": "ea223e4e-7680-4296-a69d-6a5a2c8540df",
   "metadata": {},
   "source": [
    "Aunque la función plot está diseñada principalmente para hacer gráficos $xy$ estandar, se puede adaptar para otros tipos de gráficas también. "
   ]
  },
  {
   "cell_type": "markdown",
   "id": "a4897732-4064-4ec9-8a76-b4431d697802",
   "metadata": {},
   "source": [
    "a) Grafica la llamada curva deltoide, definida paramétricamente por las ecuaciones:\n",
    "$$x = 2 cos \\theta$$\n",
    "$$ y = \" sin \\theta - sin 2\\theta$$\n",
    "\n",
    "donde $0<= \\theta < 2 \\pi$. TOma un conjunto de valores para $\\theta$ entre $0$ y $2 \\pi$ y calcula $x(\\theta)$ e $y(\\theta)$ usando las ecuaciones anteriores, para posteriormente graficar y$y$ como función de $x$. "
   ]
  },
  {
   "cell_type": "code",
   "execution_count": null,
   "id": "0de8a67f-201c-477a-b85b-8a2877e7f660",
   "metadata": {},
   "outputs": [],
   "source": []
  },
  {
   "cell_type": "markdown",
   "id": "11fcc6ed-9bfb-446d-8540-cb9a5d9c82aa",
   "metadata": {},
   "source": [
    "b) Usando este mismo enfoque, se puede hacer una gráfica polar $r = f(\\theta)$ para alguna función $f$ calculando $r$ para un rango de valores de $\\theta$ y luego convirtiendo $r$ y $\\theta$ coordenadas usando las ecuaciones estándar: \n",
    "$$x = r cos\\theta$$\n",
    "$$ y = r sin \\theta$$\n",
    "Utiliza este método para trazar ña espiral Galileana $r = \\theta ^2$ para $ 0 < \\theta < 10 \\pi$."
   ]
  },
  {
   "cell_type": "markdown",
   "id": "af607c8d-1841-44f5-882b-118516d073f0",
   "metadata": {},
   "source": []
  },
  {
   "cell_type": "markdown",
   "id": "4e929c2d-dfb3-41db-8c31-c6b85cf81204",
   "metadata": {},
   "source": [
    "c ) COn el mismo método, haz una gráfica polar de la \"función de Fey\":\n",
    "$$ r = e^{cos \\theta}-2 cos 4\\theta + sin^5 \\frac{\\theta}{12}$$\n",
    "en el rango $0 < \\theta < 24 \\pi$"
   ]
  },
  {
   "cell_type": "code",
   "execution_count": null,
   "id": "d81f3ec9-08e4-4927-a319-8b0bde9a943f",
   "metadata": {},
   "outputs": [],
   "source": []
  },
  {
   "cell_type": "markdown",
   "id": "be6c7668-c1a9-4aba-9c91-4fefc431064c",
   "metadata": {},
   "source": [
    "# Ejercicio 3"
   ]
  },
  {
   "cell_type": "markdown",
   "id": "0476f9fd-6b85-487b-b3cb-d7a5426c70eb",
   "metadata": {},
   "source": [
    "### Caminatas aleatorias "
   ]
  },
  {
   "cell_type": "markdown",
   "id": "2ca48d64-66be-439b-9822-6323864d3242",
   "metadata": {},
   "source": [
    "Considera un caminante aleatorio en una dimensión y que da un paso hacia la derecha con probabilidad $p$ o uno a la izquierda con probabilidad $q = 1 - p$."
   ]
  },
  {
   "cell_type": "markdown",
   "id": "d37af268-431c-4594-b1d1-689493b8e52e",
   "metadata": {},
   "source": [
    "a ) Escribe un programa que simule una caminata aleatoria para N pasos y haz una gráfica de las posiciones de la caminata vs el tiempo. Asimismo, grafica un histograma de la frecuencias de dichas posiciones. Puedes considerar $l = 1$, para simplificar las cosas."
   ]
  },
  {
   "cell_type": "code",
   "execution_count": null,
   "id": "182deffb-7cf8-4849-97c7-4a57c358db1e",
   "metadata": {},
   "outputs": [],
   "source": []
  },
  {
   "cell_type": "markdown",
   "id": "6ae6d89a-a430-4a33-8c8e-ad183d6592e0",
   "metadata": {},
   "source": [
    "b) Ahora, convierte tu programa del ejercicio anterior  en una función y úsala para generar 100 caminatas aleatorias y haz un sola gráfica de las posiciones de todas las caminatas vs el tiempo t. Asimismo, grafica un único histograma de la frecuencia de las posiciones, de todas las caminatas. **¿Qué es lo que observas?, ¿cuál es la diferencia con lo que obtuviste en el ejericion anterior?**"
   ]
  },
  {
   "cell_type": "code",
   "execution_count": null,
   "id": "98d855a4-3fb0-4d09-91b5-96a837161951",
   "metadata": {},
   "outputs": [],
   "source": []
  },
  {
   "cell_type": "markdown",
   "id": "5f2a5af0-05cf-4958-bb56-73e08e384169",
   "metadata": {},
   "source": [
    "c) FInalmente, generaliza tu programa oara crear una función para simular una (o varias caminatas) aleatorias en 2D y 3D, y úsalas para graficar las posiciones $(x,y)$ o $(x,y,z)$ de una o varias caminatas. "
   ]
  },
  {
   "cell_type": "code",
   "execution_count": null,
   "id": "796517cf-6400-4c55-80cd-66e15ecc1de9",
   "metadata": {},
   "outputs": [],
   "source": []
  },
  {
   "cell_type": "markdown",
   "id": "d55d7704-bbba-4783-8218-8dfab8f3c179",
   "metadata": {},
   "source": [
    "# Ejercicio 4"
   ]
  },
  {
   "cell_type": "markdown",
   "id": "c81a6084-3bf2-4a98-8fbb-feea1d5198a6",
   "metadata": {},
   "source": [
    "### La gráfica de Feigenbaum"
   ]
  },
  {
   "cell_type": "markdown",
   "id": "fd399bcf-01e8-43f2-bf3d-d125d601d21f",
   "metadata": {},
   "source": [
    "... Uno de los ejemplos más famosos del fenómeno del caos determinista es sin duda el mapeo logístico, que es un sistema matemático muy simple, definido por la ecuación:\n",
    "$$ X_{n+1} = r X_{n}(1-X_{n})$$"
   ]
  },
  {
   "cell_type": "markdown",
   "id": "fd9e6a41-a17b-45c4-985d-ebe30b18418e",
   "metadata": {},
   "source": [
    "a) Apoyate en el programa que vimos en clase y escribe un programa que muestre el comportamiento del mapeo logístico mediante una gráfica."
   ]
  },
  {
   "cell_type": "code",
   "execution_count": null,
   "id": "d3c30643-0c23-4093-899c-e95033d66e94",
   "metadata": {},
   "outputs": [],
   "source": []
  },
  {
   "cell_type": "markdown",
   "id": "a8fca91c-4196-460c-bc92-2c3c33bb439a",
   "metadata": {},
   "source": [
    "b) De acuerdo a tu gráfica, ¿a qué valor de r el sistema pasa de un comportamieto ordenado a un compotamiento caótico? A este punto a veces se le llama \"el borde del caos\". "
   ]
  },
  {
   "cell_type": "code",
   "execution_count": null,
   "id": "84bd40e0-998f-4b83-9f34-c26ca473a023",
   "metadata": {},
   "outputs": [],
   "source": []
  },
  {
   "cell_type": "markdown",
   "id": "854e4d74-9fe3-4a38-b2a9-280889e67594",
   "metadata": {},
   "source": [
    "# Ejercicio 5"
   ]
  },
  {
   "cell_type": "markdown",
   "id": "20d5d064-831d-466f-a24d-c24436f3d06a",
   "metadata": {},
   "source": [
    "### El conjunto de Mandelbrot"
   ]
  },
  {
   "cell_type": "markdown",
   "id": "4f6359d2-daf4-4191-85b7-31075705d6bc",
   "metadata": {},
   "source": [
    "La definición del conjunto de Mandelbrot en términos de números complejos es la siguiente. Consideremos la ecuación:\n",
    "$$ z_{n+1} = z_{n}^2 + c$$\n",
    "\n",
    "donde $z_n$ es un n"
   ]
  }
 ],
 "metadata": {
  "kernelspec": {
   "display_name": "Python 3 (ipykernel)",
   "language": "python",
   "name": "python3"
  },
  "language_info": {
   "codemirror_mode": {
    "name": "ipython",
    "version": 3
   },
   "file_extension": ".py",
   "mimetype": "text/x-python",
   "name": "python",
   "nbconvert_exporter": "python",
   "pygments_lexer": "ipython3",
   "version": "3.12.4"
  }
 },
 "nbformat": 4,
 "nbformat_minor": 5
}
